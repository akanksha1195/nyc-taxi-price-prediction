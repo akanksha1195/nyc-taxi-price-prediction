{
 "cells": [
  {
   "cell_type": "code",
   "execution_count": 1,
   "id": "19a29df4",
   "metadata": {},
   "outputs": [],
   "source": [
    "# id - a unique identifier for each trip\n",
    "# vendor_id - a code indicating the provider associated with the trip record\n",
    "# pickup_datetime - date and time when the meter was engaged\n",
    "# dropoff_datetime - date and time when the meter was disengaged\n",
    "# passenger_count - the number of passengers in the vehicle (driver entered value)\n",
    "# pickup_longitude - the longitude where the meter was engaged\n",
    "# pickup_latitude - the latitude where the meter was engaged\n",
    "# dropoff_longitude - the longitude where the meter was disengaged\n",
    "# dropoff_latitude - the latitude where the meter was disengaged\n",
    "# store_and_fwd_flag - This flag indicates whether the trip record was held in vehicle memory before sending to the vendor because the vehicle did not have a connection to the server (Y=store and forward; N=not a store and forward trip)\n",
    "# trip_duration - (target) duration of the trip in seconds\n",
    "\n",
    "import pandas as pd\n",
    "import numpy as np\n",
    "import matplotlib.pyplot as plt\n",
    "import seaborn as sns\n"
   ]
  },
  {
   "cell_type": "markdown",
   "id": "d9b5d99a",
   "metadata": {},
   "source": [
    "# Reading Data"
   ]
  },
  {
   "cell_type": "code",
   "execution_count": 2,
   "id": "4d43af6a",
   "metadata": {},
   "outputs": [],
   "source": [
    "data = pd.read_csv('~/Downloads/nyc_taxi_trip_duration 3.csv')"
   ]
  },
  {
   "cell_type": "code",
   "execution_count": 4,
   "id": "c04ce46b",
   "metadata": {},
   "outputs": [
    {
     "data": {
      "text/html": [
       "<div>\n",
       "<style scoped>\n",
       "    .dataframe tbody tr th:only-of-type {\n",
       "        vertical-align: middle;\n",
       "    }\n",
       "\n",
       "    .dataframe tbody tr th {\n",
       "        vertical-align: top;\n",
       "    }\n",
       "\n",
       "    .dataframe thead th {\n",
       "        text-align: right;\n",
       "    }\n",
       "</style>\n",
       "<table border=\"1\" class=\"dataframe\">\n",
       "  <thead>\n",
       "    <tr style=\"text-align: right;\">\n",
       "      <th></th>\n",
       "      <th>id</th>\n",
       "      <th>vendor_id</th>\n",
       "      <th>pickup_datetime</th>\n",
       "      <th>dropoff_datetime</th>\n",
       "      <th>passenger_count</th>\n",
       "      <th>pickup_longitude</th>\n",
       "      <th>pickup_latitude</th>\n",
       "      <th>dropoff_longitude</th>\n",
       "      <th>dropoff_latitude</th>\n",
       "      <th>store_and_fwd_flag</th>\n",
       "      <th>trip_duration</th>\n",
       "    </tr>\n",
       "  </thead>\n",
       "  <tbody>\n",
       "    <tr>\n",
       "      <th>0</th>\n",
       "      <td>id1080784</td>\n",
       "      <td>2</td>\n",
       "      <td>2016-02-29 16:40:21</td>\n",
       "      <td>2016-02-29 16:47:01</td>\n",
       "      <td>1</td>\n",
       "      <td>-73.953918</td>\n",
       "      <td>40.778873</td>\n",
       "      <td>-73.963875</td>\n",
       "      <td>40.771164</td>\n",
       "      <td>N</td>\n",
       "      <td>400</td>\n",
       "    </tr>\n",
       "    <tr>\n",
       "      <th>1</th>\n",
       "      <td>id0889885</td>\n",
       "      <td>1</td>\n",
       "      <td>2016-03-11 23:35:37</td>\n",
       "      <td>2016-03-11 23:53:57</td>\n",
       "      <td>2</td>\n",
       "      <td>-73.988312</td>\n",
       "      <td>40.731743</td>\n",
       "      <td>-73.994751</td>\n",
       "      <td>40.694931</td>\n",
       "      <td>N</td>\n",
       "      <td>1100</td>\n",
       "    </tr>\n",
       "    <tr>\n",
       "      <th>2</th>\n",
       "      <td>id0857912</td>\n",
       "      <td>2</td>\n",
       "      <td>2016-02-21 17:59:33</td>\n",
       "      <td>2016-02-21 18:26:48</td>\n",
       "      <td>2</td>\n",
       "      <td>-73.997314</td>\n",
       "      <td>40.721458</td>\n",
       "      <td>-73.948029</td>\n",
       "      <td>40.774918</td>\n",
       "      <td>N</td>\n",
       "      <td>1635</td>\n",
       "    </tr>\n",
       "    <tr>\n",
       "      <th>3</th>\n",
       "      <td>id3744273</td>\n",
       "      <td>2</td>\n",
       "      <td>2016-01-05 09:44:31</td>\n",
       "      <td>2016-01-05 10:03:32</td>\n",
       "      <td>6</td>\n",
       "      <td>-73.961670</td>\n",
       "      <td>40.759720</td>\n",
       "      <td>-73.956779</td>\n",
       "      <td>40.780628</td>\n",
       "      <td>N</td>\n",
       "      <td>1141</td>\n",
       "    </tr>\n",
       "    <tr>\n",
       "      <th>4</th>\n",
       "      <td>id0232939</td>\n",
       "      <td>1</td>\n",
       "      <td>2016-02-17 06:42:23</td>\n",
       "      <td>2016-02-17 06:56:31</td>\n",
       "      <td>1</td>\n",
       "      <td>-74.017120</td>\n",
       "      <td>40.708469</td>\n",
       "      <td>-73.988182</td>\n",
       "      <td>40.740631</td>\n",
       "      <td>N</td>\n",
       "      <td>848</td>\n",
       "    </tr>\n",
       "  </tbody>\n",
       "</table>\n",
       "</div>"
      ],
      "text/plain": [
       "          id  vendor_id      pickup_datetime     dropoff_datetime  \\\n",
       "0  id1080784          2  2016-02-29 16:40:21  2016-02-29 16:47:01   \n",
       "1  id0889885          1  2016-03-11 23:35:37  2016-03-11 23:53:57   \n",
       "2  id0857912          2  2016-02-21 17:59:33  2016-02-21 18:26:48   \n",
       "3  id3744273          2  2016-01-05 09:44:31  2016-01-05 10:03:32   \n",
       "4  id0232939          1  2016-02-17 06:42:23  2016-02-17 06:56:31   \n",
       "\n",
       "   passenger_count  pickup_longitude  pickup_latitude  dropoff_longitude  \\\n",
       "0                1        -73.953918        40.778873         -73.963875   \n",
       "1                2        -73.988312        40.731743         -73.994751   \n",
       "2                2        -73.997314        40.721458         -73.948029   \n",
       "3                6        -73.961670        40.759720         -73.956779   \n",
       "4                1        -74.017120        40.708469         -73.988182   \n",
       "\n",
       "   dropoff_latitude store_and_fwd_flag  trip_duration  \n",
       "0         40.771164                  N            400  \n",
       "1         40.694931                  N           1100  \n",
       "2         40.774918                  N           1635  \n",
       "3         40.780628                  N           1141  \n",
       "4         40.740631                  N            848  "
      ]
     },
     "execution_count": 4,
     "metadata": {},
     "output_type": "execute_result"
    }
   ],
   "source": [
    "data.head()"
   ]
  },
  {
   "cell_type": "code",
   "execution_count": 5,
   "id": "53ad7748",
   "metadata": {},
   "outputs": [
    {
     "data": {
      "text/plain": [
       "id                     object\n",
       "vendor_id               int64\n",
       "pickup_datetime        object\n",
       "dropoff_datetime       object\n",
       "passenger_count         int64\n",
       "pickup_longitude      float64\n",
       "pickup_latitude       float64\n",
       "dropoff_longitude     float64\n",
       "dropoff_latitude      float64\n",
       "store_and_fwd_flag     object\n",
       "trip_duration           int64\n",
       "dtype: object"
      ]
     },
     "execution_count": 5,
     "metadata": {},
     "output_type": "execute_result"
    }
   ],
   "source": [
    "data.dtypes"
   ]
  },
  {
   "cell_type": "code",
   "execution_count": 6,
   "id": "cd0e19c9",
   "metadata": {},
   "outputs": [],
   "source": [
    "data['store_and_fwd_flag'] = data['store_and_fwd_flag'].astype('category')"
   ]
  },
  {
   "cell_type": "code",
   "execution_count": 7,
   "id": "53654b16",
   "metadata": {},
   "outputs": [
    {
     "data": {
      "text/plain": [
       "id                      object\n",
       "vendor_id                int64\n",
       "pickup_datetime         object\n",
       "dropoff_datetime        object\n",
       "passenger_count          int64\n",
       "pickup_longitude       float64\n",
       "pickup_latitude        float64\n",
       "dropoff_longitude      float64\n",
       "dropoff_latitude       float64\n",
       "store_and_fwd_flag    category\n",
       "trip_duration            int64\n",
       "dtype: object"
      ]
     },
     "execution_count": 7,
     "metadata": {},
     "output_type": "execute_result"
    }
   ],
   "source": [
    "data.dtypes"
   ]
  },
  {
   "cell_type": "code",
   "execution_count": 8,
   "id": "d803e887",
   "metadata": {},
   "outputs": [],
   "source": [
    "data['pickup_datetime'] =  pd.to_datetime(data['pickup_datetime'])\n",
    "data['dropoff_datetime'] =  pd.to_datetime(data['dropoff_datetime'])"
   ]
  },
  {
   "cell_type": "code",
   "execution_count": 9,
   "id": "a88d49ba",
   "metadata": {},
   "outputs": [
    {
     "data": {
      "text/plain": [
       "id                            object\n",
       "vendor_id                      int64\n",
       "pickup_datetime       datetime64[ns]\n",
       "dropoff_datetime      datetime64[ns]\n",
       "passenger_count                int64\n",
       "pickup_longitude             float64\n",
       "pickup_latitude              float64\n",
       "dropoff_longitude            float64\n",
       "dropoff_latitude             float64\n",
       "store_and_fwd_flag          category\n",
       "trip_duration                  int64\n",
       "dtype: object"
      ]
     },
     "execution_count": 9,
     "metadata": {},
     "output_type": "execute_result"
    }
   ],
   "source": [
    "data.dtypes"
   ]
  },
  {
   "cell_type": "markdown",
   "id": "5fd78f14",
   "metadata": {},
   "source": [
    "# Data Cleaning"
   ]
  },
  {
   "cell_type": "code",
   "execution_count": 10,
   "id": "e5afb53f",
   "metadata": {},
   "outputs": [
    {
     "data": {
      "text/plain": [
       "id                    0\n",
       "vendor_id             0\n",
       "pickup_datetime       0\n",
       "dropoff_datetime      0\n",
       "passenger_count       0\n",
       "pickup_longitude      0\n",
       "pickup_latitude       0\n",
       "dropoff_longitude     0\n",
       "dropoff_latitude      0\n",
       "store_and_fwd_flag    0\n",
       "trip_duration         0\n",
       "dtype: int64"
      ]
     },
     "execution_count": 10,
     "metadata": {},
     "output_type": "execute_result"
    }
   ],
   "source": [
    "data.isna().sum()"
   ]
  },
  {
   "cell_type": "code",
   "execution_count": 11,
   "id": "1980e730",
   "metadata": {},
   "outputs": [],
   "source": [
    "date  = pd.DatetimeIndex(data['pickup_datetime'])"
   ]
  },
  {
   "cell_type": "code",
   "execution_count": 12,
   "id": "7929ae79",
   "metadata": {},
   "outputs": [
    {
     "name": "stderr",
     "output_type": "stream",
     "text": [
      "/var/folders/s7/903k1s2139v_myj9l94b19wh0000gn/T/ipykernel_34707/3930540550.py:2: FutureWarning: weekofyear and week have been deprecated, please use DatetimeIndex.isocalendar().week instead, which returns a Series. To exactly reproduce the behavior of week and weekofyear and return an Index, you may call pd.Int64Index(idx.isocalendar().week)\n",
      "  data['week_pickup'] = date.weekofyear\n"
     ]
    }
   ],
   "source": [
    "data['doy_pickup'] = date.dayofyear\n",
    "data['week_pickup'] = date.weekofyear\n",
    "data['moy_pickup'] = date.month\n",
    "data['dow_pickup'] = date.dayofweek\n",
    "data['day_of_pickup'] = date.day_name()"
   ]
  },
  {
   "cell_type": "code",
   "execution_count": 13,
   "id": "6e094e7f",
   "metadata": {},
   "outputs": [
    {
     "data": {
      "text/html": [
       "<div>\n",
       "<style scoped>\n",
       "    .dataframe tbody tr th:only-of-type {\n",
       "        vertical-align: middle;\n",
       "    }\n",
       "\n",
       "    .dataframe tbody tr th {\n",
       "        vertical-align: top;\n",
       "    }\n",
       "\n",
       "    .dataframe thead th {\n",
       "        text-align: right;\n",
       "    }\n",
       "</style>\n",
       "<table border=\"1\" class=\"dataframe\">\n",
       "  <thead>\n",
       "    <tr style=\"text-align: right;\">\n",
       "      <th></th>\n",
       "      <th>pickup_datetime</th>\n",
       "      <th>doy_pickup</th>\n",
       "      <th>week_pickup</th>\n",
       "      <th>moy_pickup</th>\n",
       "      <th>dow_pickup</th>\n",
       "      <th>day_of_pickup</th>\n",
       "    </tr>\n",
       "  </thead>\n",
       "  <tbody>\n",
       "    <tr>\n",
       "      <th>0</th>\n",
       "      <td>2016-02-29 16:40:21</td>\n",
       "      <td>60</td>\n",
       "      <td>9</td>\n",
       "      <td>2</td>\n",
       "      <td>0</td>\n",
       "      <td>Monday</td>\n",
       "    </tr>\n",
       "    <tr>\n",
       "      <th>1</th>\n",
       "      <td>2016-03-11 23:35:37</td>\n",
       "      <td>71</td>\n",
       "      <td>10</td>\n",
       "      <td>3</td>\n",
       "      <td>4</td>\n",
       "      <td>Friday</td>\n",
       "    </tr>\n",
       "    <tr>\n",
       "      <th>2</th>\n",
       "      <td>2016-02-21 17:59:33</td>\n",
       "      <td>52</td>\n",
       "      <td>7</td>\n",
       "      <td>2</td>\n",
       "      <td>6</td>\n",
       "      <td>Sunday</td>\n",
       "    </tr>\n",
       "    <tr>\n",
       "      <th>3</th>\n",
       "      <td>2016-01-05 09:44:31</td>\n",
       "      <td>5</td>\n",
       "      <td>1</td>\n",
       "      <td>1</td>\n",
       "      <td>1</td>\n",
       "      <td>Tuesday</td>\n",
       "    </tr>\n",
       "    <tr>\n",
       "      <th>4</th>\n",
       "      <td>2016-02-17 06:42:23</td>\n",
       "      <td>48</td>\n",
       "      <td>7</td>\n",
       "      <td>2</td>\n",
       "      <td>2</td>\n",
       "      <td>Wednesday</td>\n",
       "    </tr>\n",
       "  </tbody>\n",
       "</table>\n",
       "</div>"
      ],
      "text/plain": [
       "      pickup_datetime  doy_pickup  week_pickup  moy_pickup  dow_pickup  \\\n",
       "0 2016-02-29 16:40:21          60            9           2           0   \n",
       "1 2016-03-11 23:35:37          71           10           3           4   \n",
       "2 2016-02-21 17:59:33          52            7           2           6   \n",
       "3 2016-01-05 09:44:31           5            1           1           1   \n",
       "4 2016-02-17 06:42:23          48            7           2           2   \n",
       "\n",
       "  day_of_pickup  \n",
       "0        Monday  \n",
       "1        Friday  \n",
       "2        Sunday  \n",
       "3       Tuesday  \n",
       "4     Wednesday  "
      ]
     },
     "execution_count": 13,
     "metadata": {},
     "output_type": "execute_result"
    }
   ],
   "source": [
    "data[['pickup_datetime','doy_pickup','week_pickup','moy_pickup','dow_pickup','day_of_pickup']].head()"
   ]
  },
  {
   "cell_type": "markdown",
   "id": "d19a5f77",
   "metadata": {},
   "source": [
    "# Exploratory Data Analysis (EDA)"
   ]
  },
  {
   "cell_type": "code",
   "execution_count": 14,
   "id": "b4e3c9bc",
   "metadata": {},
   "outputs": [
    {
     "data": {
      "text/plain": [
       "1    517415\n",
       "2    105097\n",
       "5     38926\n",
       "3     29692\n",
       "6     24107\n",
       "4     14050\n",
       "0        33\n",
       "7         1\n",
       "9         1\n",
       "Name: passenger_count, dtype: int64"
      ]
     },
     "execution_count": 14,
     "metadata": {},
     "output_type": "execute_result"
    }
   ],
   "source": [
    "data['passenger_count'].value_counts()"
   ]
  },
  {
   "cell_type": "code",
   "execution_count": 15,
   "id": "ab689b1c",
   "metadata": {},
   "outputs": [
    {
     "data": {
      "text/plain": [
       "Text(0, 0.5, 'passenger frequency')"
      ]
     },
     "execution_count": 15,
     "metadata": {},
     "output_type": "execute_result"
    },
    {
     "data": {
      "image/png": "[encoded data removed]",
      "text/plain": [
       "<Figure size 840x560 with 1 Axes>"
      ]
     },
     "metadata": {},
     "output_type": "display_data"
    }
   ],
   "source": [
    "plt.figure(figsize=(6,4),dpi=140)\n",
    "sns.barplot(x=data['passenger_count'].value_counts().index,y=data['passenger_count'].value_counts().values,color='blue');\n",
    "plt.xlabel('no. of passenger')\n",
    "plt.ylabel('passenger frequency')\n"
   ]
  },
  {
   "cell_type": "markdown",
   "id": "1c6d0644",
   "metadata": {},
   "source": [
    "This graph shows that mostly 1 or 2 person is using the cab service.  "
   ]
  },
  {
   "cell_type": "code",
   "execution_count": 16,
   "id": "dc2421dc",
   "metadata": {},
   "outputs": [
    {
     "name": "stderr",
     "output_type": "stream",
     "text": [
      "/var/folders/s7/903k1s2139v_myj9l94b19wh0000gn/T/ipykernel_34707/2119478355.py:3: FutureWarning: weekofyear and week have been deprecated, please use DatetimeIndex.isocalendar().week instead, which returns a Series. To exactly reproduce the behavior of week and weekofyear and return an Index, you may call pd.Int64Index(idx.isocalendar().week)\n",
      "  data['week_dropoff'] = date1.weekofyear\n"
     ]
    }
   ],
   "source": [
    "date1  = pd.DatetimeIndex(data['dropoff_datetime'])\n",
    "data['doy_dropoff'] = date1.dayofyear\n",
    "data['week_dropoff'] = date1.weekofyear\n",
    "data['moy_dropoff'] = date1.month\n",
    "data['dow_dropoff'] = date1.dayofweek\n",
    "data['day_of_dropoff'] = date1.day_name()"
   ]
  },
  {
   "cell_type": "code",
   "execution_count": 17,
   "id": "9d86c9ff",
   "metadata": {},
   "outputs": [
    {
     "data": {
      "text/html": [
       "<div>\n",
       "<style scoped>\n",
       "    .dataframe tbody tr th:only-of-type {\n",
       "        vertical-align: middle;\n",
       "    }\n",
       "\n",
       "    .dataframe tbody tr th {\n",
       "        vertical-align: top;\n",
       "    }\n",
       "\n",
       "    .dataframe thead th {\n",
       "        text-align: right;\n",
       "    }\n",
       "</style>\n",
       "<table border=\"1\" class=\"dataframe\">\n",
       "  <thead>\n",
       "    <tr style=\"text-align: right;\">\n",
       "      <th></th>\n",
       "      <th>dropoff_datetime</th>\n",
       "      <th>doy_dropoff</th>\n",
       "      <th>week_dropoff</th>\n",
       "      <th>moy_dropoff</th>\n",
       "      <th>dow_dropoff</th>\n",
       "      <th>day_of_dropoff</th>\n",
       "    </tr>\n",
       "  </thead>\n",
       "  <tbody>\n",
       "    <tr>\n",
       "      <th>0</th>\n",
       "      <td>2016-02-29 16:47:01</td>\n",
       "      <td>60</td>\n",
       "      <td>9</td>\n",
       "      <td>2</td>\n",
       "      <td>0</td>\n",
       "      <td>Monday</td>\n",
       "    </tr>\n",
       "    <tr>\n",
       "      <th>1</th>\n",
       "      <td>2016-03-11 23:53:57</td>\n",
       "      <td>71</td>\n",
       "      <td>10</td>\n",
       "      <td>3</td>\n",
       "      <td>4</td>\n",
       "      <td>Friday</td>\n",
       "    </tr>\n",
       "    <tr>\n",
       "      <th>2</th>\n",
       "      <td>2016-02-21 18:26:48</td>\n",
       "      <td>52</td>\n",
       "      <td>7</td>\n",
       "      <td>2</td>\n",
       "      <td>6</td>\n",
       "      <td>Sunday</td>\n",
       "    </tr>\n",
       "    <tr>\n",
       "      <th>3</th>\n",
       "      <td>2016-01-05 10:03:32</td>\n",
       "      <td>5</td>\n",
       "      <td>1</td>\n",
       "      <td>1</td>\n",
       "      <td>1</td>\n",
       "      <td>Tuesday</td>\n",
       "    </tr>\n",
       "    <tr>\n",
       "      <th>4</th>\n",
       "      <td>2016-02-17 06:56:31</td>\n",
       "      <td>48</td>\n",
       "      <td>7</td>\n",
       "      <td>2</td>\n",
       "      <td>2</td>\n",
       "      <td>Wednesday</td>\n",
       "    </tr>\n",
       "  </tbody>\n",
       "</table>\n",
       "</div>"
      ],
      "text/plain": [
       "     dropoff_datetime  doy_dropoff  week_dropoff  moy_dropoff  dow_dropoff  \\\n",
       "0 2016-02-29 16:47:01           60             9            2            0   \n",
       "1 2016-03-11 23:53:57           71            10            3            4   \n",
       "2 2016-02-21 18:26:48           52             7            2            6   \n",
       "3 2016-01-05 10:03:32            5             1            1            1   \n",
       "4 2016-02-17 06:56:31           48             7            2            2   \n",
       "\n",
       "  day_of_dropoff  \n",
       "0         Monday  \n",
       "1         Friday  \n",
       "2         Sunday  \n",
       "3        Tuesday  \n",
       "4      Wednesday  "
      ]
     },
     "execution_count": 17,
     "metadata": {},
     "output_type": "execute_result"
    }
   ],
   "source": [
    "data[['dropoff_datetime','doy_dropoff','week_dropoff','moy_dropoff','dow_dropoff','day_of_dropoff']].head()"
   ]
  },
  {
   "cell_type": "code",
   "execution_count": 18,
   "id": "4324f8ac",
   "metadata": {},
   "outputs": [
    {
     "data": {
      "image/png": "[encoded data removed]",
      "text/plain": [
       "<Figure size 800x400 with 2 Axes>"
      ]
     },
     "metadata": {},
     "output_type": "display_data"
    }
   ],
   "source": [
    "fig,ax = plt.subplots(nrows=2, ncols=1,figsize=(8,4))\n",
    "sns.barplot(ax=ax[0],x=data['day_of_pickup'].value_counts().index,y=data['dow_pickup'].value_counts().values,color='green');\n",
    "sns.barplot(ax=ax[1],x=data['day_of_dropoff'].value_counts().index,y=data['dow_dropoff'].value_counts().values,color='green');\n",
    "plt.xlabel('days of the week')\n",
    "plt.ylabel('frequency')\n",
    "plt.show()"
   ]
  },
  {
   "cell_type": "markdown",
   "id": "91698ec8",
   "metadata": {},
   "source": [
    "The number of people travelling on Friday is more than number of people travelling on Monday."
   ]
  },
  {
   "cell_type": "code",
   "execution_count": 19,
   "id": "c91eef98",
   "metadata": {},
   "outputs": [],
   "source": [
    "#     4-8am : early morning - datetime.time(4, 0, 1)  - datetime(8, 0, 0)\n",
    "#     8-12pm: morning -  \n",
    "#     12-4pm:afternoon\n",
    "#     4-8pm:evening\n",
    "#     8-12am:night\n",
    "#     12-4am: late night"
   ]
  },
  {
   "cell_type": "code",
   "execution_count": 20,
   "id": "d0ea3af5",
   "metadata": {},
   "outputs": [
    {
     "data": {
      "text/plain": [
       "0         16:40:21\n",
       "1         23:35:37\n",
       "2         17:59:33\n",
       "3         09:44:31\n",
       "4         06:42:23\n",
       "            ...   \n",
       "729317    13:29:38\n",
       "729318    00:43:11\n",
       "729319    18:56:48\n",
       "729320    09:50:47\n",
       "729321    17:24:16\n",
       "Name: pickup_datetime, Length: 729322, dtype: object"
      ]
     },
     "execution_count": 20,
     "metadata": {},
     "output_type": "execute_result"
    }
   ],
   "source": [
    "data['pickup_datetime'].dt.time"
   ]
  },
  {
   "cell_type": "code",
   "execution_count": 21,
   "id": "13f53555",
   "metadata": {},
   "outputs": [],
   "source": [
    "import datetime \n",
    "def time_extract(x):\n",
    "    if x >= datetime.time(4, 0, 0) and x < datetime.time(8, 0, 0):\n",
    "        return ('early_morning')\n",
    "    elif x >= datetime.time(8, 0, 0) and x < datetime.time(12, 0, 0):\n",
    "        return ('morning')\n",
    "    elif x >= datetime.time(12, 0, 0) and x < datetime.time(16, 0, 0):\n",
    "        return ('afternoon')\n",
    "    elif x >= datetime.time(16, 0, 0) and x < datetime.time(20, 0, 0):\n",
    "        return ('evening')\n",
    "    elif x >= datetime.time(20, 0, 0) and x <= datetime.time(23, 59, 59):\n",
    "        return ('night')\n",
    "    else:\n",
    "        return ('late_night')"
   ]
  },
  {
   "cell_type": "code",
   "execution_count": 22,
   "id": "cdd6a5c5",
   "metadata": {},
   "outputs": [],
   "source": [
    "data['pickup_time'] = data['pickup_datetime'].dt.time.apply(lambda x: time_extract(x))"
   ]
  },
  {
   "cell_type": "code",
   "execution_count": 23,
   "id": "1d36bedd",
   "metadata": {},
   "outputs": [],
   "source": [
    "data['dropoff_time'] = data['dropoff_datetime'].dt.time.apply(lambda x: time_extract(x))"
   ]
  },
  {
   "cell_type": "code",
   "execution_count": 24,
   "id": "54b24879",
   "metadata": {},
   "outputs": [
    {
     "data": {
      "text/plain": [
       "0               evening\n",
       "1                 night\n",
       "2               evening\n",
       "3               morning\n",
       "4         early_morning\n",
       "              ...      \n",
       "729317        afternoon\n",
       "729318       late_night\n",
       "729319          evening\n",
       "729320          morning\n",
       "729321          evening\n",
       "Name: pickup_time, Length: 729322, dtype: object"
      ]
     },
     "execution_count": 24,
     "metadata": {},
     "output_type": "execute_result"
    }
   ],
   "source": [
    "data['pickup_time']"
   ]
  },
  {
   "cell_type": "code",
   "execution_count": 25,
   "id": "28b18561",
   "metadata": {},
   "outputs": [
    {
     "data": {
      "text/plain": [
       "0               evening\n",
       "1                 night\n",
       "2               evening\n",
       "3               morning\n",
       "4         early_morning\n",
       "              ...      \n",
       "729317        afternoon\n",
       "729318       late_night\n",
       "729319          evening\n",
       "729320          morning\n",
       "729321          evening\n",
       "Name: dropoff_time, Length: 729322, dtype: object"
      ]
     },
     "execution_count": 25,
     "metadata": {},
     "output_type": "execute_result"
    }
   ],
   "source": [
    "data['dropoff_time']"
   ]
  },
  {
   "cell_type": "code",
   "execution_count": 26,
   "id": "abc266f3",
   "metadata": {},
   "outputs": [
    {
     "data": {
      "text/plain": [
       "Text(0.5, 1.0, 'dropoff time')"
      ]
     },
     "execution_count": 26,
     "metadata": {},
     "output_type": "execute_result"
    },
    {
     "data": {
      "image/png": "[encoded data removed]",
      "text/plain": [
       "<Figure size 800x800 with 2 Axes>"
      ]
     },
     "metadata": {},
     "output_type": "display_data"
    }
   ],
   "source": [
    "fig,ax = plt.subplots(nrows=2, ncols=1,figsize=(8,8))\n",
    "sns.barplot(ax=ax[0],x=data['pickup_time'].value_counts().index , y=data['pickup_time'].value_counts().values )\n",
    "sns.barplot(ax=ax[1],x=data['dropoff_time'].value_counts().index , y=data['dropoff_time'].value_counts().values )\n",
    "ax[0].set_title('pickup time')\n",
    "ax[1].set_title('dropoff time')"
   ]
  },
  {
   "cell_type": "markdown",
   "id": "d9ef2071",
   "metadata": {},
   "source": [
    "Maximum number of pickups in Evening time and Maximum number of dropoffs in Night time. \n",
    "Less traffic in Early morning."
   ]
  },
  {
   "cell_type": "code",
   "execution_count": 27,
   "id": "994c429c",
   "metadata": {},
   "outputs": [
    {
     "data": {
      "text/plain": [
       "(array([45969., 24384., 15348., 44459., 67433., 66774., 71450., 72807.,\n",
       "        70460., 90666., 84210., 75362.]),\n",
       " array([ 0.        ,  1.91666667,  3.83333333,  5.75      ,  7.66666667,\n",
       "         9.58333333, 11.5       , 13.41666667, 15.33333333, 17.25      ,\n",
       "        19.16666667, 21.08333333, 23.        ]),\n",
       " <BarContainer object of 12 artists>)"
      ]
     },
     "execution_count": 27,
     "metadata": {},
     "output_type": "execute_result"
    },
    {
     "data": {
      "image/png": "[encoded data removed]",
      "text/plain": [
       "<Figure size 640x480 with 1 Axes>"
      ]
     },
     "metadata": {},
     "output_type": "display_data"
    }
   ],
   "source": [
    "plt.hist(data['pickup_datetime'].dt.hour,bins=12)"
   ]
  },
  {
   "cell_type": "code",
   "execution_count": 28,
   "id": "9289ae11",
   "metadata": {},
   "outputs": [
    {
     "data": {
      "text/plain": [
       "(array([49798., 25900., 15476., 39608., 65912., 66269., 71178., 72570.,\n",
       "        68935., 91715., 84637., 77324.]),\n",
       " array([ 0.        ,  1.91666667,  3.83333333,  5.75      ,  7.66666667,\n",
       "         9.58333333, 11.5       , 13.41666667, 15.33333333, 17.25      ,\n",
       "        19.16666667, 21.08333333, 23.        ]),\n",
       " <BarContainer object of 12 artists>)"
      ]
     },
     "execution_count": 28,
     "metadata": {},
     "output_type": "execute_result"
    },
    {
     "data": {
      "image/png": "[encoded data removed]",
      "text/plain": [
       "<Figure size 640x480 with 1 Axes>"
      ]
     },
     "metadata": {},
     "output_type": "display_data"
    }
   ],
   "source": [
    "plt.hist(data['dropoff_datetime'].dt.hour,bins=12)"
   ]
  },
  {
   "cell_type": "markdown",
   "id": "f2c4589d",
   "metadata": {},
   "source": [
    "The histogram above shows that the maximum number of people are travelling during the evening/night time which was also inferred from the above barplots "
   ]
  },
  {
   "cell_type": "code",
   "execution_count": 29,
   "id": "d6b6f185",
   "metadata": {},
   "outputs": [
    {
     "data": {
      "text/plain": [
       "0          400\n",
       "1         1100\n",
       "2         1635\n",
       "3         1141\n",
       "4          848\n",
       "          ... \n",
       "729317     296\n",
       "729318     315\n",
       "729319     673\n",
       "729320     447\n",
       "729321    1224\n",
       "Name: trip_duration, Length: 729322, dtype: int64"
      ]
     },
     "execution_count": 29,
     "metadata": {},
     "output_type": "execute_result"
    }
   ],
   "source": [
    "data['trip_duration']"
   ]
  },
  {
   "cell_type": "code",
   "execution_count": 30,
   "id": "e11f7a5b",
   "metadata": {},
   "outputs": [
    {
     "name": "stderr",
     "output_type": "stream",
     "text": [
      "/var/folders/s7/903k1s2139v_myj9l94b19wh0000gn/T/ipykernel_34707/2417088972.py:1: UserWarning: \n",
      "\n",
      "`distplot` is a deprecated function and will be removed in seaborn v0.14.0.\n",
      "\n",
      "Please adapt your code to use either `displot` (a figure-level function with\n",
      "similar flexibility) or `histplot` (an axes-level function for histograms).\n",
      "\n",
      "For a guide to updating your code to use the new functions, please see\n",
      "https://gist.github.com/mwaskom/de44147ed2974457ad6372750bbe5751\n",
      "\n",
      "  sns.distplot(data['trip_duration'],kde=False)\n"
     ]
    },
    {
     "data": {
      "text/plain": [
       "<AxesSubplot: xlabel='trip_duration'>"
      ]
     },
     "execution_count": 30,
     "metadata": {},
     "output_type": "execute_result"
    },
    {
     "data": {
      "image/png": "[encoded data removed]",
      "text/plain": [
       "<Figure size 640x480 with 1 Axes>"
      ]
     },
     "metadata": {},
     "output_type": "display_data"
    }
   ],
   "source": [
    "sns.distplot(data['trip_duration'],kde=False)"
   ]
  },
  {
   "cell_type": "code",
   "execution_count": 31,
   "id": "5c055106",
   "metadata": {},
   "outputs": [
    {
     "data": {
      "text/plain": [
       "21813     1939736\n",
       "259437      86391\n",
       "119185      86387\n",
       "177225      86378\n",
       "496391      86377\n",
       "90557       86369\n",
       "673847      86369\n",
       "163178      86367\n",
       "179065      86365\n",
       "248675      86364\n",
       "Name: trip_duration, dtype: int64"
      ]
     },
     "execution_count": 31,
     "metadata": {},
     "output_type": "execute_result"
    }
   ],
   "source": [
    "data['trip_duration'].nlargest(n=10)"
   ]
  },
  {
   "cell_type": "code",
   "execution_count": 32,
   "id": "fc825541",
   "metadata": {},
   "outputs": [],
   "source": [
    "data = data[data['trip_duration']!=data['trip_duration'].max()]"
   ]
  },
  {
   "cell_type": "code",
   "execution_count": 33,
   "id": "5d9c9339",
   "metadata": {},
   "outputs": [
    {
     "data": {
      "text/plain": [
       "86391"
      ]
     },
     "execution_count": 33,
     "metadata": {},
     "output_type": "execute_result"
    }
   ],
   "source": [
    "data['trip_duration'].max()"
   ]
  },
  {
   "cell_type": "code",
   "execution_count": 34,
   "id": "2d9e3f4f",
   "metadata": {},
   "outputs": [
    {
     "name": "stderr",
     "output_type": "stream",
     "text": [
      "/var/folders/s7/903k1s2139v_myj9l94b19wh0000gn/T/ipykernel_34707/94777440.py:1: UserWarning: \n",
      "\n",
      "`distplot` is a deprecated function and will be removed in seaborn v0.14.0.\n",
      "\n",
      "Please adapt your code to use either `displot` (a figure-level function with\n",
      "similar flexibility) or `histplot` (an axes-level function for histograms).\n",
      "\n",
      "For a guide to updating your code to use the new functions, please see\n",
      "https://gist.github.com/mwaskom/de44147ed2974457ad6372750bbe5751\n",
      "\n",
      "  sns.distplot(data['trip_duration'])\n"
     ]
    },
    {
     "data": {
      "text/plain": [
       "<AxesSubplot: xlabel='trip_duration', ylabel='Density'>"
      ]
     },
     "execution_count": 34,
     "metadata": {},
     "output_type": "execute_result"
    },
    {
     "data": {
      "image/png": "[encoded data removed]",
      "text/plain": [
       "<Figure size 640x480 with 1 Axes>"
      ]
     },
     "metadata": {},
     "output_type": "display_data"
    }
   ],
   "source": [
    "sns.distplot(data['trip_duration'])"
   ]
  },
  {
   "cell_type": "code",
   "execution_count": 35,
   "id": "b5af4200",
   "metadata": {},
   "outputs": [
    {
     "data": {
      "text/plain": [
       "Text(0, 0.5, 'frequency')"
      ]
     },
     "execution_count": 35,
     "metadata": {},
     "output_type": "execute_result"
    },
    {
     "data": {
      "image/png": "[encoded data removed]",
      "text/plain": [
       "<Figure size 840x560 with 1 Axes>"
      ]
     },
     "metadata": {},
     "output_type": "display_data"
    }
   ],
   "source": [
    "plt.figure(figsize=(6,4),dpi=140)\n",
    "sns.barplot(x=data['vendor_id'].value_counts().index,y=data['vendor_id'].value_counts().values,color='blue');\n",
    "plt.xlabel('vendor id')\n",
    "plt.ylabel('frequency')\n"
   ]
  },
  {
   "cell_type": "markdown",
   "id": "e1373cab",
   "metadata": {},
   "source": [
    "Vendor id: 2 has more customers as compared to Vendor id: 1"
   ]
  },
  {
   "cell_type": "code",
   "execution_count": 36,
   "id": "9cb26d18",
   "metadata": {},
   "outputs": [
    {
     "data": {
      "text/plain": [
       "Index(['id', 'vendor_id', 'pickup_datetime', 'dropoff_datetime',\n",
       "       'passenger_count', 'pickup_longitude', 'pickup_latitude',\n",
       "       'dropoff_longitude', 'dropoff_latitude', 'store_and_fwd_flag',\n",
       "       'trip_duration', 'doy_pickup', 'week_pickup', 'moy_pickup',\n",
       "       'dow_pickup', 'day_of_pickup', 'doy_dropoff', 'week_dropoff',\n",
       "       'moy_dropoff', 'dow_dropoff', 'day_of_dropoff', 'pickup_time',\n",
       "       'dropoff_time'],\n",
       "      dtype='object')"
      ]
     },
     "execution_count": 36,
     "metadata": {},
     "output_type": "execute_result"
    }
   ],
   "source": [
    "data.columns"
   ]
  },
  {
   "cell_type": "code",
   "execution_count": 37,
   "id": "bcbe4216",
   "metadata": {},
   "outputs": [
    {
     "data": {
      "image/png": "[encoded data removed]",
      "text/plain": [
       "<Figure size 500x500 with 1 Axes>"
      ]
     },
     "metadata": {},
     "output_type": "display_data"
    }
   ],
   "source": [
    "sns.catplot(x=\"day_of_pickup\", y=\"trip_duration\", kind='bar', data= data);"
   ]
  },
  {
   "cell_type": "markdown",
   "id": "e47b710c",
   "metadata": {},
   "source": [
    "The duration of the trips is maximum for Thursdays and Fridays and minimum for Mondays, Sundays and Saturdays."
   ]
  },
  {
   "cell_type": "code",
   "execution_count": 38,
   "id": "dc54dd61",
   "metadata": {},
   "outputs": [
    {
     "data": {
      "image/png": "[encoded data removed]",
      "text/plain": [
       "<Figure size 500x500 with 1 Axes>"
      ]
     },
     "metadata": {},
     "output_type": "display_data"
    }
   ],
   "source": [
    "sns.catplot(x=\"day_of_dropoff\", y=\"trip_duration\", kind='bar', data= data);"
   ]
  },
  {
   "cell_type": "code",
   "execution_count": 39,
   "id": "9dafb95e",
   "metadata": {},
   "outputs": [
    {
     "data": {
      "image/png": "[encoded data removed]",
      "text/plain": [
       "<Figure size 800x400 with 1 Axes>"
      ]
     },
     "metadata": {},
     "output_type": "display_data"
    }
   ],
   "source": [
    "fig,ax = plt.subplots(nrows=1, ncols=1,figsize=(8,4))\n",
    "sns.barplot(x=\"pickup_time\", y=\"trip_duration\", data= data);"
   ]
  },
  {
   "cell_type": "code",
   "execution_count": 40,
   "id": "59261a4c",
   "metadata": {},
   "outputs": [
    {
     "data": {
      "image/png": "[encoded data removed]",
      "text/plain": [
       "<Figure size 800x400 with 1 Axes>"
      ]
     },
     "metadata": {},
     "output_type": "display_data"
    }
   ],
   "source": [
    "fig,ax = plt.subplots(nrows=1, ncols=1,figsize=(8,4))\n",
    "sns.barplot(x=\"dropoff_time\", y=\"trip_duration\", data= data);"
   ]
  },
  {
   "cell_type": "markdown",
   "id": "eb14ea84",
   "metadata": {},
   "source": [
    "Maximum trip duration is between afternoon(12pm to 4pm) and evening(4pm to 8pm) likely because of the traffic."
   ]
  },
  {
   "cell_type": "code",
   "execution_count": 41,
   "id": "60b1abd5",
   "metadata": {},
   "outputs": [
    {
     "data": {
      "image/png": "[encoded data removed]",
      "text/plain": [
       "<Figure size 500x500 with 1 Axes>"
      ]
     },
     "metadata": {},
     "output_type": "display_data"
    }
   ],
   "source": [
    "sns.catplot(x=\"vendor_id\", y=\"trip_duration\", kind='strip', data= data);"
   ]
  },
  {
   "cell_type": "raw",
   "id": "da8a7f54",
   "metadata": {},
   "source": [
    "Vendor 1 has cab facility for short trips only and Vendor 2 has both long and short trips."
   ]
  },
  {
   "cell_type": "code",
   "execution_count": 42,
   "id": "b0b22390",
   "metadata": {},
   "outputs": [
    {
     "data": {
      "image/png": "[encoded data removed]",
      "text/plain": [
       "<Figure size 500x500 with 1 Axes>"
      ]
     },
     "metadata": {},
     "output_type": "display_data"
    }
   ],
   "source": [
    "sns.catplot(x=\"passenger_count\", y=\"trip_duration\", kind='strip', data= data);"
   ]
  },
  {
   "cell_type": "markdown",
   "id": "bc3c8255",
   "metadata": {},
   "source": [
    "No such relationship is displayed in passenger count and trip duration. Passenger count 7 to 9 has no large trip durations."
   ]
  },
  {
   "cell_type": "code",
   "execution_count": 43,
   "id": "2f306302",
   "metadata": {
    "scrolled": true
   },
   "outputs": [
    {
     "data": {
      "image/png": "[encoded data removed]",
      "text/plain": [
       "<Figure size 500x500 with 1 Axes>"
      ]
     },
     "metadata": {},
     "output_type": "display_data"
    }
   ],
   "source": [
    "sns.catplot(x=\"store_and_fwd_flag\", y=\"trip_duration\", kind='strip', data= data);"
   ]
  },
  {
   "cell_type": "markdown",
   "id": "68c3d5a7",
   "metadata": {},
   "source": [
    "The flag is stored for short trip durations only."
   ]
  },
  {
   "cell_type": "markdown",
   "id": "3974347a",
   "metadata": {},
   "source": [
    "Conclusion:\n",
    "1. Most trips are taken on Friday , Saturday and Thursday\n",
    "2. Maximum number of pickups in Evening time and Maximum number of dropoffs in Night time. Less traffic in Early morning.\n",
    "3. Vendor 2 mostly provides the longer trips\n",
    "4. The duration of the trips is maximum for Thursdays and Fridays and minimum for Mondays, Sundays and Saturdays.\n",
    "5. Maximum trip duration is between afternoon(12pm to 4pm) and evening(4pm to 8pm) likely because of the traffic."
   ]
  },
  {
   "cell_type": "code",
   "execution_count": 5,
   "id": "eefc22ec",
   "metadata": {
    "scrolled": true
   },
   "outputs": [],
   "source": [
    "from sklearn.preprocessing import StandardScaler\n",
    "from sklearn.linear_model import LinearRegression"
   ]
  },
  {
   "cell_type": "code",
   "execution_count": 6,
   "id": "a75e422f",
   "metadata": {},
   "outputs": [],
   "source": [
    "data=pd.concat([data,pd.get_dummies(data['store_and_fwd_flag'],prefix='flag',prefix_sep='_')],axis=1)"
   ]
  },
  {
   "cell_type": "code",
   "execution_count": 7,
   "id": "52873696",
   "metadata": {},
   "outputs": [],
   "source": [
    "data['pickup_datetime'] =  pd.to_datetime(data['pickup_datetime'])\n",
    "data['dropoff_datetime'] =  pd.to_datetime(data['dropoff_datetime'])"
   ]
  },
  {
   "cell_type": "code",
   "execution_count": 8,
   "id": "aa21b63c",
   "metadata": {},
   "outputs": [],
   "source": [
    "data['pickup_time']=data['pickup_datetime'].dt.time\n",
    "data['dropoff_time'] = data['dropoff_datetime'].dt.time"
   ]
  },
  {
   "cell_type": "markdown",
   "id": "8674673b",
   "metadata": {},
   "source": [
    "Splitting the time into bins"
   ]
  },
  {
   "cell_type": "code",
   "execution_count": 9,
   "id": "e2d95f17",
   "metadata": {},
   "outputs": [],
   "source": [
    "import datetime \n",
    "def time_extract(x):\n",
    "    if x >= datetime.time(4, 0, 0) and x < datetime.time(8, 0, 0):\n",
    "        return ('early_morning')\n",
    "    elif x >= datetime.time(8, 0, 0) and x < datetime.time(12, 0, 0):\n",
    "        return ('morning')\n",
    "    elif x >= datetime.time(12, 0, 0) and x < datetime.time(16, 0, 0):\n",
    "        return ('afternoon')\n",
    "    elif x >= datetime.time(16, 0, 0) and x < datetime.time(20, 0, 0):\n",
    "        return ('evening')\n",
    "    elif x >= datetime.time(20, 0, 0) and x <= datetime.time(23, 59, 59):\n",
    "        return ('night')\n",
    "    else:\n",
    "        return ('late_night')"
   ]
  },
  {
   "cell_type": "code",
   "execution_count": 10,
   "id": "607276fc",
   "metadata": {},
   "outputs": [],
   "source": [
    "data['pickup_time'] = data['pickup_datetime'].dt.time.apply(lambda x: time_extract(x))\n",
    "data['dropoff_time'] = data['dropoff_datetime'].dt.time.apply(lambda x: time_extract(x))"
   ]
  },
  {
   "cell_type": "code",
   "execution_count": 11,
   "id": "1abff4b8",
   "metadata": {},
   "outputs": [],
   "source": [
    "date1  = pd.DatetimeIndex(data['dropoff_datetime'])\n",
    "date2  = pd.DatetimeIndex(data['pickup_datetime'])\n",
    "data['day_of_pickup'] = date2.day_name()\n",
    "data['day_of_dropoff'] = date1.day_name()"
   ]
  },
  {
   "cell_type": "code",
   "execution_count": 12,
   "id": "982ea2ab",
   "metadata": {},
   "outputs": [],
   "source": [
    "data=pd.concat([data,pd.get_dummies(data['pickup_time'],prefix='pickuptime',prefix_sep='_')],axis=1)\n",
    "data=pd.concat([data,pd.get_dummies(data['dropoff_time'],prefix='droptime',prefix_sep='_')],axis=1)\n",
    "data=pd.concat([data,pd.get_dummies(data['day_of_pickup'],prefix='pickupday',prefix_sep='_')],axis=1)\n",
    "data=pd.concat([data,pd.get_dummies(data['day_of_dropoff'],prefix='dropoffday',prefix_sep='_')],axis=1)"
   ]
  },
  {
   "cell_type": "code",
   "execution_count": 13,
   "id": "4b061e39",
   "metadata": {},
   "outputs": [],
   "source": [
    "data = data.drop(['id','pickup_datetime','dropoff_datetime'],axis=1)"
   ]
  },
  {
   "cell_type": "code",
   "execution_count": 14,
   "id": "3938864f",
   "metadata": {},
   "outputs": [],
   "source": [
    "data=pd.concat([data,pd.get_dummies(data['vendor_id'],prefix='vendor',prefix_sep='_')],axis=1)"
   ]
  },
  {
   "cell_type": "code",
   "execution_count": 15,
   "id": "8385c1ca",
   "metadata": {},
   "outputs": [],
   "source": [
    "data = data.drop(['vendor_id','pickup_time','dropoff_time','store_and_fwd_flag','day_of_pickup','day_of_dropoff'],axis=1)"
   ]
  },
  {
   "cell_type": "code",
   "execution_count": 16,
   "id": "b64d2d0c",
   "metadata": {},
   "outputs": [
    {
     "data": {
      "text/html": [
       "<div>\n",
       "<style scoped>\n",
       "    .dataframe tbody tr th:only-of-type {\n",
       "        vertical-align: middle;\n",
       "    }\n",
       "\n",
       "    .dataframe tbody tr th {\n",
       "        vertical-align: top;\n",
       "    }\n",
       "\n",
       "    .dataframe thead th {\n",
       "        text-align: right;\n",
       "    }\n",
       "</style>\n",
       "<table border=\"1\" class=\"dataframe\">\n",
       "  <thead>\n",
       "    <tr style=\"text-align: right;\">\n",
       "      <th></th>\n",
       "      <th>passenger_count</th>\n",
       "      <th>pickup_longitude</th>\n",
       "      <th>pickup_latitude</th>\n",
       "      <th>dropoff_longitude</th>\n",
       "      <th>dropoff_latitude</th>\n",
       "      <th>trip_duration</th>\n",
       "      <th>flag_N</th>\n",
       "      <th>flag_Y</th>\n",
       "      <th>pickuptime_afternoon</th>\n",
       "      <th>pickuptime_early_morning</th>\n",
       "      <th>...</th>\n",
       "      <th>pickupday_Wednesday</th>\n",
       "      <th>dropoffday_Friday</th>\n",
       "      <th>dropoffday_Monday</th>\n",
       "      <th>dropoffday_Saturday</th>\n",
       "      <th>dropoffday_Sunday</th>\n",
       "      <th>dropoffday_Thursday</th>\n",
       "      <th>dropoffday_Tuesday</th>\n",
       "      <th>dropoffday_Wednesday</th>\n",
       "      <th>vendor_1</th>\n",
       "      <th>vendor_2</th>\n",
       "    </tr>\n",
       "  </thead>\n",
       "  <tbody>\n",
       "    <tr>\n",
       "      <th>0</th>\n",
       "      <td>1</td>\n",
       "      <td>-73.953918</td>\n",
       "      <td>40.778873</td>\n",
       "      <td>-73.963875</td>\n",
       "      <td>40.771164</td>\n",
       "      <td>400</td>\n",
       "      <td>1</td>\n",
       "      <td>0</td>\n",
       "      <td>0</td>\n",
       "      <td>0</td>\n",
       "      <td>...</td>\n",
       "      <td>0</td>\n",
       "      <td>0</td>\n",
       "      <td>1</td>\n",
       "      <td>0</td>\n",
       "      <td>0</td>\n",
       "      <td>0</td>\n",
       "      <td>0</td>\n",
       "      <td>0</td>\n",
       "      <td>0</td>\n",
       "      <td>1</td>\n",
       "    </tr>\n",
       "    <tr>\n",
       "      <th>1</th>\n",
       "      <td>2</td>\n",
       "      <td>-73.988312</td>\n",
       "      <td>40.731743</td>\n",
       "      <td>-73.994751</td>\n",
       "      <td>40.694931</td>\n",
       "      <td>1100</td>\n",
       "      <td>1</td>\n",
       "      <td>0</td>\n",
       "      <td>0</td>\n",
       "      <td>0</td>\n",
       "      <td>...</td>\n",
       "      <td>0</td>\n",
       "      <td>1</td>\n",
       "      <td>0</td>\n",
       "      <td>0</td>\n",
       "      <td>0</td>\n",
       "      <td>0</td>\n",
       "      <td>0</td>\n",
       "      <td>0</td>\n",
       "      <td>1</td>\n",
       "      <td>0</td>\n",
       "    </tr>\n",
       "    <tr>\n",
       "      <th>2</th>\n",
       "      <td>2</td>\n",
       "      <td>-73.997314</td>\n",
       "      <td>40.721458</td>\n",
       "      <td>-73.948029</td>\n",
       "      <td>40.774918</td>\n",
       "      <td>1635</td>\n",
       "      <td>1</td>\n",
       "      <td>0</td>\n",
       "      <td>0</td>\n",
       "      <td>0</td>\n",
       "      <td>...</td>\n",
       "      <td>0</td>\n",
       "      <td>0</td>\n",
       "      <td>0</td>\n",
       "      <td>0</td>\n",
       "      <td>1</td>\n",
       "      <td>0</td>\n",
       "      <td>0</td>\n",
       "      <td>0</td>\n",
       "      <td>0</td>\n",
       "      <td>1</td>\n",
       "    </tr>\n",
       "    <tr>\n",
       "      <th>3</th>\n",
       "      <td>6</td>\n",
       "      <td>-73.961670</td>\n",
       "      <td>40.759720</td>\n",
       "      <td>-73.956779</td>\n",
       "      <td>40.780628</td>\n",
       "      <td>1141</td>\n",
       "      <td>1</td>\n",
       "      <td>0</td>\n",
       "      <td>0</td>\n",
       "      <td>0</td>\n",
       "      <td>...</td>\n",
       "      <td>0</td>\n",
       "      <td>0</td>\n",
       "      <td>0</td>\n",
       "      <td>0</td>\n",
       "      <td>0</td>\n",
       "      <td>0</td>\n",
       "      <td>1</td>\n",
       "      <td>0</td>\n",
       "      <td>0</td>\n",
       "      <td>1</td>\n",
       "    </tr>\n",
       "    <tr>\n",
       "      <th>4</th>\n",
       "      <td>1</td>\n",
       "      <td>-74.017120</td>\n",
       "      <td>40.708469</td>\n",
       "      <td>-73.988182</td>\n",
       "      <td>40.740631</td>\n",
       "      <td>848</td>\n",
       "      <td>1</td>\n",
       "      <td>0</td>\n",
       "      <td>0</td>\n",
       "      <td>1</td>\n",
       "      <td>...</td>\n",
       "      <td>1</td>\n",
       "      <td>0</td>\n",
       "      <td>0</td>\n",
       "      <td>0</td>\n",
       "      <td>0</td>\n",
       "      <td>0</td>\n",
       "      <td>0</td>\n",
       "      <td>1</td>\n",
       "      <td>1</td>\n",
       "      <td>0</td>\n",
       "    </tr>\n",
       "    <tr>\n",
       "      <th>...</th>\n",
       "      <td>...</td>\n",
       "      <td>...</td>\n",
       "      <td>...</td>\n",
       "      <td>...</td>\n",
       "      <td>...</td>\n",
       "      <td>...</td>\n",
       "      <td>...</td>\n",
       "      <td>...</td>\n",
       "      <td>...</td>\n",
       "      <td>...</td>\n",
       "      <td>...</td>\n",
       "      <td>...</td>\n",
       "      <td>...</td>\n",
       "      <td>...</td>\n",
       "      <td>...</td>\n",
       "      <td>...</td>\n",
       "      <td>...</td>\n",
       "      <td>...</td>\n",
       "      <td>...</td>\n",
       "      <td>...</td>\n",
       "      <td>...</td>\n",
       "    </tr>\n",
       "    <tr>\n",
       "      <th>729317</th>\n",
       "      <td>2</td>\n",
       "      <td>-73.965919</td>\n",
       "      <td>40.789780</td>\n",
       "      <td>-73.952637</td>\n",
       "      <td>40.789181</td>\n",
       "      <td>296</td>\n",
       "      <td>1</td>\n",
       "      <td>0</td>\n",
       "      <td>1</td>\n",
       "      <td>0</td>\n",
       "      <td>...</td>\n",
       "      <td>0</td>\n",
       "      <td>0</td>\n",
       "      <td>0</td>\n",
       "      <td>1</td>\n",
       "      <td>0</td>\n",
       "      <td>0</td>\n",
       "      <td>0</td>\n",
       "      <td>0</td>\n",
       "      <td>0</td>\n",
       "      <td>1</td>\n",
       "    </tr>\n",
       "    <tr>\n",
       "      <th>729318</th>\n",
       "      <td>1</td>\n",
       "      <td>-73.996666</td>\n",
       "      <td>40.737434</td>\n",
       "      <td>-74.001320</td>\n",
       "      <td>40.731911</td>\n",
       "      <td>315</td>\n",
       "      <td>1</td>\n",
       "      <td>0</td>\n",
       "      <td>0</td>\n",
       "      <td>0</td>\n",
       "      <td>...</td>\n",
       "      <td>0</td>\n",
       "      <td>0</td>\n",
       "      <td>1</td>\n",
       "      <td>0</td>\n",
       "      <td>0</td>\n",
       "      <td>0</td>\n",
       "      <td>0</td>\n",
       "      <td>0</td>\n",
       "      <td>1</td>\n",
       "      <td>0</td>\n",
       "    </tr>\n",
       "    <tr>\n",
       "      <th>729319</th>\n",
       "      <td>1</td>\n",
       "      <td>-73.997849</td>\n",
       "      <td>40.761696</td>\n",
       "      <td>-74.001488</td>\n",
       "      <td>40.741207</td>\n",
       "      <td>673</td>\n",
       "      <td>1</td>\n",
       "      <td>0</td>\n",
       "      <td>0</td>\n",
       "      <td>0</td>\n",
       "      <td>...</td>\n",
       "      <td>0</td>\n",
       "      <td>1</td>\n",
       "      <td>0</td>\n",
       "      <td>0</td>\n",
       "      <td>0</td>\n",
       "      <td>0</td>\n",
       "      <td>0</td>\n",
       "      <td>0</td>\n",
       "      <td>1</td>\n",
       "      <td>0</td>\n",
       "    </tr>\n",
       "    <tr>\n",
       "      <th>729320</th>\n",
       "      <td>1</td>\n",
       "      <td>-74.006706</td>\n",
       "      <td>40.708244</td>\n",
       "      <td>-74.013550</td>\n",
       "      <td>40.713814</td>\n",
       "      <td>447</td>\n",
       "      <td>1</td>\n",
       "      <td>0</td>\n",
       "      <td>0</td>\n",
       "      <td>0</td>\n",
       "      <td>...</td>\n",
       "      <td>0</td>\n",
       "      <td>0</td>\n",
       "      <td>0</td>\n",
       "      <td>0</td>\n",
       "      <td>1</td>\n",
       "      <td>0</td>\n",
       "      <td>0</td>\n",
       "      <td>0</td>\n",
       "      <td>1</td>\n",
       "      <td>0</td>\n",
       "    </tr>\n",
       "    <tr>\n",
       "      <th>729321</th>\n",
       "      <td>4</td>\n",
       "      <td>-74.003342</td>\n",
       "      <td>40.743839</td>\n",
       "      <td>-73.945847</td>\n",
       "      <td>40.712841</td>\n",
       "      <td>1224</td>\n",
       "      <td>1</td>\n",
       "      <td>0</td>\n",
       "      <td>0</td>\n",
       "      <td>0</td>\n",
       "      <td>...</td>\n",
       "      <td>0</td>\n",
       "      <td>1</td>\n",
       "      <td>0</td>\n",
       "      <td>0</td>\n",
       "      <td>0</td>\n",
       "      <td>0</td>\n",
       "      <td>0</td>\n",
       "      <td>0</td>\n",
       "      <td>0</td>\n",
       "      <td>1</td>\n",
       "    </tr>\n",
       "  </tbody>\n",
       "</table>\n",
       "<p>729322 rows × 36 columns</p>\n",
       "</div>"
      ],
      "text/plain": [
       "        passenger_count  pickup_longitude  pickup_latitude  dropoff_longitude  \\\n",
       "0                     1        -73.953918        40.778873         -73.963875   \n",
       "1                     2        -73.988312        40.731743         -73.994751   \n",
       "2                     2        -73.997314        40.721458         -73.948029   \n",
       "3                     6        -73.961670        40.759720         -73.956779   \n",
       "4                     1        -74.017120        40.708469         -73.988182   \n",
       "...                 ...               ...              ...                ...   \n",
       "729317                2        -73.965919        40.789780         -73.952637   \n",
       "729318                1        -73.996666        40.737434         -74.001320   \n",
       "729319                1        -73.997849        40.761696         -74.001488   \n",
       "729320                1        -74.006706        40.708244         -74.013550   \n",
       "729321                4        -74.003342        40.743839         -73.945847   \n",
       "\n",
       "        dropoff_latitude  trip_duration  flag_N  flag_Y  pickuptime_afternoon  \\\n",
       "0              40.771164            400       1       0                     0   \n",
       "1              40.694931           1100       1       0                     0   \n",
       "2              40.774918           1635       1       0                     0   \n",
       "3              40.780628           1141       1       0                     0   \n",
       "4              40.740631            848       1       0                     0   \n",
       "...                  ...            ...     ...     ...                   ...   \n",
       "729317         40.789181            296       1       0                     1   \n",
       "729318         40.731911            315       1       0                     0   \n",
       "729319         40.741207            673       1       0                     0   \n",
       "729320         40.713814            447       1       0                     0   \n",
       "729321         40.712841           1224       1       0                     0   \n",
       "\n",
       "        pickuptime_early_morning  ...  pickupday_Wednesday  dropoffday_Friday  \\\n",
       "0                              0  ...                    0                  0   \n",
       "1                              0  ...                    0                  1   \n",
       "2                              0  ...                    0                  0   \n",
       "3                              0  ...                    0                  0   \n",
       "4                              1  ...                    1                  0   \n",
       "...                          ...  ...                  ...                ...   \n",
       "729317                         0  ...                    0                  0   \n",
       "729318                         0  ...                    0                  0   \n",
       "729319                         0  ...                    0                  1   \n",
       "729320                         0  ...                    0                  0   \n",
       "729321                         0  ...                    0                  1   \n",
       "\n",
       "        dropoffday_Monday  dropoffday_Saturday  dropoffday_Sunday  \\\n",
       "0                       1                    0                  0   \n",
       "1                       0                    0                  0   \n",
       "2                       0                    0                  1   \n",
       "3                       0                    0                  0   \n",
       "4                       0                    0                  0   \n",
       "...                   ...                  ...                ...   \n",
       "729317                  0                    1                  0   \n",
       "729318                  1                    0                  0   \n",
       "729319                  0                    0                  0   \n",
       "729320                  0                    0                  1   \n",
       "729321                  0                    0                  0   \n",
       "\n",
       "        dropoffday_Thursday  dropoffday_Tuesday  dropoffday_Wednesday  \\\n",
       "0                         0                   0                     0   \n",
       "1                         0                   0                     0   \n",
       "2                         0                   0                     0   \n",
       "3                         0                   1                     0   \n",
       "4                         0                   0                     1   \n",
       "...                     ...                 ...                   ...   \n",
       "729317                    0                   0                     0   \n",
       "729318                    0                   0                     0   \n",
       "729319                    0                   0                     0   \n",
       "729320                    0                   0                     0   \n",
       "729321                    0                   0                     0   \n",
       "\n",
       "        vendor_1  vendor_2  \n",
       "0              0         1  \n",
       "1              1         0  \n",
       "2              0         1  \n",
       "3              0         1  \n",
       "4              1         0  \n",
       "...          ...       ...  \n",
       "729317         0         1  \n",
       "729318         1         0  \n",
       "729319         1         0  \n",
       "729320         1         0  \n",
       "729321         0         1  \n",
       "\n",
       "[729322 rows x 36 columns]"
      ]
     },
     "execution_count": 16,
     "metadata": {},
     "output_type": "execute_result"
    }
   ],
   "source": [
    "data"
   ]
  },
  {
   "cell_type": "code",
   "execution_count": 17,
   "id": "1ee52c7e",
   "metadata": {},
   "outputs": [
    {
     "name": "stdout",
     "output_type": "stream",
     "text": [
      "Requirement already satisfied: geopy in ./envs/av/lib/python3.9/site-packages (2.3.0)\r\n",
      "Requirement already satisfied: geographiclib<3,>=1.52 in ./envs/av/lib/python3.9/site-packages (from geopy) (2.0)\r\n"
     ]
    }
   ],
   "source": [
    "!pip install geopy"
   ]
  },
  {
   "cell_type": "code",
   "execution_count": 18,
   "id": "3884b8a7",
   "metadata": {},
   "outputs": [],
   "source": [
    "import geopy \n",
    "from geopy import distance"
   ]
  },
  {
   "cell_type": "code",
   "execution_count": 19,
   "id": "9bb8d7b3",
   "metadata": {},
   "outputs": [],
   "source": [
    "def cal_distance(data):\n",
    "    pickup = (data['pickup_latitude'], data['pickup_longitude'])\n",
    "    dropoff = (data['dropoff_latitude'], data['dropoff_longitude'])\n",
    "    return distance.distance(pickup,dropoff).miles"
   ]
  },
  {
   "cell_type": "code",
   "execution_count": 20,
   "id": "8e11d515",
   "metadata": {},
   "outputs": [],
   "source": [
    "data['distance'] = data.apply(lambda x : cal_distance(x),axis=1)"
   ]
  },
  {
   "cell_type": "code",
   "execution_count": 21,
   "id": "ea7a31c1",
   "metadata": {},
   "outputs": [],
   "source": [
    "num_cols = ['distance','trip_duration']"
   ]
  },
  {
   "cell_type": "code",
   "execution_count": 22,
   "id": "867e903d",
   "metadata": {},
   "outputs": [],
   "source": [
    "for i in num_cols:\n",
    "    data[i] = np.log(data[i] + 10)\n"
   ]
  },
  {
   "cell_type": "code",
   "execution_count": 23,
   "id": "4f745f92",
   "metadata": {},
   "outputs": [
    {
     "data": {
      "text/html": [
       "<div>\n",
       "<style scoped>\n",
       "    .dataframe tbody tr th:only-of-type {\n",
       "        vertical-align: middle;\n",
       "    }\n",
       "\n",
       "    .dataframe tbody tr th {\n",
       "        vertical-align: top;\n",
       "    }\n",
       "\n",
       "    .dataframe thead th {\n",
       "        text-align: right;\n",
       "    }\n",
       "</style>\n",
       "<table border=\"1\" class=\"dataframe\">\n",
       "  <thead>\n",
       "    <tr style=\"text-align: right;\">\n",
       "      <th></th>\n",
       "      <th>distance</th>\n",
       "      <th>trip_duration</th>\n",
       "    </tr>\n",
       "  </thead>\n",
       "  <tbody>\n",
       "    <tr>\n",
       "      <th>0</th>\n",
       "      <td>2.374487</td>\n",
       "      <td>6.016157</td>\n",
       "    </tr>\n",
       "    <tr>\n",
       "      <th>1</th>\n",
       "      <td>2.530716</td>\n",
       "      <td>7.012115</td>\n",
       "    </tr>\n",
       "    <tr>\n",
       "      <th>2</th>\n",
       "      <td>2.674508</td>\n",
       "      <td>7.405496</td>\n",
       "    </tr>\n",
       "    <tr>\n",
       "      <th>3</th>\n",
       "      <td>2.439331</td>\n",
       "      <td>7.048386</td>\n",
       "    </tr>\n",
       "    <tr>\n",
       "      <th>4</th>\n",
       "      <td>2.540766</td>\n",
       "      <td>6.754604</td>\n",
       "    </tr>\n",
       "    <tr>\n",
       "      <th>...</th>\n",
       "      <td>...</td>\n",
       "      <td>...</td>\n",
       "    </tr>\n",
       "    <tr>\n",
       "      <th>729317</th>\n",
       "      <td>2.370042</td>\n",
       "      <td>5.723585</td>\n",
       "    </tr>\n",
       "    <tr>\n",
       "      <th>729318</th>\n",
       "      <td>2.346861</td>\n",
       "      <td>5.783825</td>\n",
       "    </tr>\n",
       "    <tr>\n",
       "      <th>729319</th>\n",
       "      <td>2.435946</td>\n",
       "      <td>6.526495</td>\n",
       "    </tr>\n",
       "    <tr>\n",
       "      <th>729320</th>\n",
       "      <td>2.353861</td>\n",
       "      <td>6.124683</td>\n",
       "    </tr>\n",
       "    <tr>\n",
       "      <th>729321</th>\n",
       "      <td>2.617337</td>\n",
       "      <td>7.118016</td>\n",
       "    </tr>\n",
       "  </tbody>\n",
       "</table>\n",
       "<p>729322 rows × 2 columns</p>\n",
       "</div>"
      ],
      "text/plain": [
       "        distance  trip_duration\n",
       "0       2.374487       6.016157\n",
       "1       2.530716       7.012115\n",
       "2       2.674508       7.405496\n",
       "3       2.439331       7.048386\n",
       "4       2.540766       6.754604\n",
       "...          ...            ...\n",
       "729317  2.370042       5.723585\n",
       "729318  2.346861       5.783825\n",
       "729319  2.435946       6.526495\n",
       "729320  2.353861       6.124683\n",
       "729321  2.617337       7.118016\n",
       "\n",
       "[729322 rows x 2 columns]"
      ]
     },
     "execution_count": 23,
     "metadata": {},
     "output_type": "execute_result"
    }
   ],
   "source": [
    "data[num_cols]"
   ]
  },
  {
   "cell_type": "code",
   "execution_count": 24,
   "id": "b56c6569",
   "metadata": {},
   "outputs": [
    {
     "data": {
      "text/html": [
       "<div>\n",
       "<style scoped>\n",
       "    .dataframe tbody tr th:only-of-type {\n",
       "        vertical-align: middle;\n",
       "    }\n",
       "\n",
       "    .dataframe tbody tr th {\n",
       "        vertical-align: top;\n",
       "    }\n",
       "\n",
       "    .dataframe thead th {\n",
       "        text-align: right;\n",
       "    }\n",
       "</style>\n",
       "<table border=\"1\" class=\"dataframe\">\n",
       "  <thead>\n",
       "    <tr style=\"text-align: right;\">\n",
       "      <th></th>\n",
       "      <th>passenger_count</th>\n",
       "      <th>pickup_longitude</th>\n",
       "      <th>pickup_latitude</th>\n",
       "      <th>dropoff_longitude</th>\n",
       "      <th>dropoff_latitude</th>\n",
       "      <th>trip_duration</th>\n",
       "      <th>flag_N</th>\n",
       "      <th>flag_Y</th>\n",
       "      <th>pickuptime_afternoon</th>\n",
       "      <th>pickuptime_early_morning</th>\n",
       "      <th>...</th>\n",
       "      <th>dropoffday_Friday</th>\n",
       "      <th>dropoffday_Monday</th>\n",
       "      <th>dropoffday_Saturday</th>\n",
       "      <th>dropoffday_Sunday</th>\n",
       "      <th>dropoffday_Thursday</th>\n",
       "      <th>dropoffday_Tuesday</th>\n",
       "      <th>dropoffday_Wednesday</th>\n",
       "      <th>vendor_1</th>\n",
       "      <th>vendor_2</th>\n",
       "      <th>distance</th>\n",
       "    </tr>\n",
       "  </thead>\n",
       "  <tbody>\n",
       "    <tr>\n",
       "      <th>0</th>\n",
       "      <td>1</td>\n",
       "      <td>-73.953918</td>\n",
       "      <td>40.778873</td>\n",
       "      <td>-73.963875</td>\n",
       "      <td>40.771164</td>\n",
       "      <td>6.016157</td>\n",
       "      <td>1</td>\n",
       "      <td>0</td>\n",
       "      <td>0</td>\n",
       "      <td>0</td>\n",
       "      <td>...</td>\n",
       "      <td>0</td>\n",
       "      <td>1</td>\n",
       "      <td>0</td>\n",
       "      <td>0</td>\n",
       "      <td>0</td>\n",
       "      <td>0</td>\n",
       "      <td>0</td>\n",
       "      <td>0</td>\n",
       "      <td>1</td>\n",
       "      <td>2.374487</td>\n",
       "    </tr>\n",
       "    <tr>\n",
       "      <th>1</th>\n",
       "      <td>2</td>\n",
       "      <td>-73.988312</td>\n",
       "      <td>40.731743</td>\n",
       "      <td>-73.994751</td>\n",
       "      <td>40.694931</td>\n",
       "      <td>7.012115</td>\n",
       "      <td>1</td>\n",
       "      <td>0</td>\n",
       "      <td>0</td>\n",
       "      <td>0</td>\n",
       "      <td>...</td>\n",
       "      <td>1</td>\n",
       "      <td>0</td>\n",
       "      <td>0</td>\n",
       "      <td>0</td>\n",
       "      <td>0</td>\n",
       "      <td>0</td>\n",
       "      <td>0</td>\n",
       "      <td>1</td>\n",
       "      <td>0</td>\n",
       "      <td>2.530716</td>\n",
       "    </tr>\n",
       "    <tr>\n",
       "      <th>2</th>\n",
       "      <td>2</td>\n",
       "      <td>-73.997314</td>\n",
       "      <td>40.721458</td>\n",
       "      <td>-73.948029</td>\n",
       "      <td>40.774918</td>\n",
       "      <td>7.405496</td>\n",
       "      <td>1</td>\n",
       "      <td>0</td>\n",
       "      <td>0</td>\n",
       "      <td>0</td>\n",
       "      <td>...</td>\n",
       "      <td>0</td>\n",
       "      <td>0</td>\n",
       "      <td>0</td>\n",
       "      <td>1</td>\n",
       "      <td>0</td>\n",
       "      <td>0</td>\n",
       "      <td>0</td>\n",
       "      <td>0</td>\n",
       "      <td>1</td>\n",
       "      <td>2.674508</td>\n",
       "    </tr>\n",
       "    <tr>\n",
       "      <th>3</th>\n",
       "      <td>6</td>\n",
       "      <td>-73.961670</td>\n",
       "      <td>40.759720</td>\n",
       "      <td>-73.956779</td>\n",
       "      <td>40.780628</td>\n",
       "      <td>7.048386</td>\n",
       "      <td>1</td>\n",
       "      <td>0</td>\n",
       "      <td>0</td>\n",
       "      <td>0</td>\n",
       "      <td>...</td>\n",
       "      <td>0</td>\n",
       "      <td>0</td>\n",
       "      <td>0</td>\n",
       "      <td>0</td>\n",
       "      <td>0</td>\n",
       "      <td>1</td>\n",
       "      <td>0</td>\n",
       "      <td>0</td>\n",
       "      <td>1</td>\n",
       "      <td>2.439331</td>\n",
       "    </tr>\n",
       "    <tr>\n",
       "      <th>4</th>\n",
       "      <td>1</td>\n",
       "      <td>-74.017120</td>\n",
       "      <td>40.708469</td>\n",
       "      <td>-73.988182</td>\n",
       "      <td>40.740631</td>\n",
       "      <td>6.754604</td>\n",
       "      <td>1</td>\n",
       "      <td>0</td>\n",
       "      <td>0</td>\n",
       "      <td>1</td>\n",
       "      <td>...</td>\n",
       "      <td>0</td>\n",
       "      <td>0</td>\n",
       "      <td>0</td>\n",
       "      <td>0</td>\n",
       "      <td>0</td>\n",
       "      <td>0</td>\n",
       "      <td>1</td>\n",
       "      <td>1</td>\n",
       "      <td>0</td>\n",
       "      <td>2.540766</td>\n",
       "    </tr>\n",
       "    <tr>\n",
       "      <th>...</th>\n",
       "      <td>...</td>\n",
       "      <td>...</td>\n",
       "      <td>...</td>\n",
       "      <td>...</td>\n",
       "      <td>...</td>\n",
       "      <td>...</td>\n",
       "      <td>...</td>\n",
       "      <td>...</td>\n",
       "      <td>...</td>\n",
       "      <td>...</td>\n",
       "      <td>...</td>\n",
       "      <td>...</td>\n",
       "      <td>...</td>\n",
       "      <td>...</td>\n",
       "      <td>...</td>\n",
       "      <td>...</td>\n",
       "      <td>...</td>\n",
       "      <td>...</td>\n",
       "      <td>...</td>\n",
       "      <td>...</td>\n",
       "      <td>...</td>\n",
       "    </tr>\n",
       "    <tr>\n",
       "      <th>729317</th>\n",
       "      <td>2</td>\n",
       "      <td>-73.965919</td>\n",
       "      <td>40.789780</td>\n",
       "      <td>-73.952637</td>\n",
       "      <td>40.789181</td>\n",
       "      <td>5.723585</td>\n",
       "      <td>1</td>\n",
       "      <td>0</td>\n",
       "      <td>1</td>\n",
       "      <td>0</td>\n",
       "      <td>...</td>\n",
       "      <td>0</td>\n",
       "      <td>0</td>\n",
       "      <td>1</td>\n",
       "      <td>0</td>\n",
       "      <td>0</td>\n",
       "      <td>0</td>\n",
       "      <td>0</td>\n",
       "      <td>0</td>\n",
       "      <td>1</td>\n",
       "      <td>2.370042</td>\n",
       "    </tr>\n",
       "    <tr>\n",
       "      <th>729318</th>\n",
       "      <td>1</td>\n",
       "      <td>-73.996666</td>\n",
       "      <td>40.737434</td>\n",
       "      <td>-74.001320</td>\n",
       "      <td>40.731911</td>\n",
       "      <td>5.783825</td>\n",
       "      <td>1</td>\n",
       "      <td>0</td>\n",
       "      <td>0</td>\n",
       "      <td>0</td>\n",
       "      <td>...</td>\n",
       "      <td>0</td>\n",
       "      <td>1</td>\n",
       "      <td>0</td>\n",
       "      <td>0</td>\n",
       "      <td>0</td>\n",
       "      <td>0</td>\n",
       "      <td>0</td>\n",
       "      <td>1</td>\n",
       "      <td>0</td>\n",
       "      <td>2.346861</td>\n",
       "    </tr>\n",
       "    <tr>\n",
       "      <th>729319</th>\n",
       "      <td>1</td>\n",
       "      <td>-73.997849</td>\n",
       "      <td>40.761696</td>\n",
       "      <td>-74.001488</td>\n",
       "      <td>40.741207</td>\n",
       "      <td>6.526495</td>\n",
       "      <td>1</td>\n",
       "      <td>0</td>\n",
       "      <td>0</td>\n",
       "      <td>0</td>\n",
       "      <td>...</td>\n",
       "      <td>1</td>\n",
       "      <td>0</td>\n",
       "      <td>0</td>\n",
       "      <td>0</td>\n",
       "      <td>0</td>\n",
       "      <td>0</td>\n",
       "      <td>0</td>\n",
       "      <td>1</td>\n",
       "      <td>0</td>\n",
       "      <td>2.435946</td>\n",
       "    </tr>\n",
       "    <tr>\n",
       "      <th>729320</th>\n",
       "      <td>1</td>\n",
       "      <td>-74.006706</td>\n",
       "      <td>40.708244</td>\n",
       "      <td>-74.013550</td>\n",
       "      <td>40.713814</td>\n",
       "      <td>6.124683</td>\n",
       "      <td>1</td>\n",
       "      <td>0</td>\n",
       "      <td>0</td>\n",
       "      <td>0</td>\n",
       "      <td>...</td>\n",
       "      <td>0</td>\n",
       "      <td>0</td>\n",
       "      <td>0</td>\n",
       "      <td>1</td>\n",
       "      <td>0</td>\n",
       "      <td>0</td>\n",
       "      <td>0</td>\n",
       "      <td>1</td>\n",
       "      <td>0</td>\n",
       "      <td>2.353861</td>\n",
       "    </tr>\n",
       "    <tr>\n",
       "      <th>729321</th>\n",
       "      <td>4</td>\n",
       "      <td>-74.003342</td>\n",
       "      <td>40.743839</td>\n",
       "      <td>-73.945847</td>\n",
       "      <td>40.712841</td>\n",
       "      <td>7.118016</td>\n",
       "      <td>1</td>\n",
       "      <td>0</td>\n",
       "      <td>0</td>\n",
       "      <td>0</td>\n",
       "      <td>...</td>\n",
       "      <td>1</td>\n",
       "      <td>0</td>\n",
       "      <td>0</td>\n",
       "      <td>0</td>\n",
       "      <td>0</td>\n",
       "      <td>0</td>\n",
       "      <td>0</td>\n",
       "      <td>0</td>\n",
       "      <td>1</td>\n",
       "      <td>2.617337</td>\n",
       "    </tr>\n",
       "  </tbody>\n",
       "</table>\n",
       "<p>729322 rows × 37 columns</p>\n",
       "</div>"
      ],
      "text/plain": [
       "        passenger_count  pickup_longitude  pickup_latitude  dropoff_longitude  \\\n",
       "0                     1        -73.953918        40.778873         -73.963875   \n",
       "1                     2        -73.988312        40.731743         -73.994751   \n",
       "2                     2        -73.997314        40.721458         -73.948029   \n",
       "3                     6        -73.961670        40.759720         -73.956779   \n",
       "4                     1        -74.017120        40.708469         -73.988182   \n",
       "...                 ...               ...              ...                ...   \n",
       "729317                2        -73.965919        40.789780         -73.952637   \n",
       "729318                1        -73.996666        40.737434         -74.001320   \n",
       "729319                1        -73.997849        40.761696         -74.001488   \n",
       "729320                1        -74.006706        40.708244         -74.013550   \n",
       "729321                4        -74.003342        40.743839         -73.945847   \n",
       "\n",
       "        dropoff_latitude  trip_duration  flag_N  flag_Y  pickuptime_afternoon  \\\n",
       "0              40.771164       6.016157       1       0                     0   \n",
       "1              40.694931       7.012115       1       0                     0   \n",
       "2              40.774918       7.405496       1       0                     0   \n",
       "3              40.780628       7.048386       1       0                     0   \n",
       "4              40.740631       6.754604       1       0                     0   \n",
       "...                  ...            ...     ...     ...                   ...   \n",
       "729317         40.789181       5.723585       1       0                     1   \n",
       "729318         40.731911       5.783825       1       0                     0   \n",
       "729319         40.741207       6.526495       1       0                     0   \n",
       "729320         40.713814       6.124683       1       0                     0   \n",
       "729321         40.712841       7.118016       1       0                     0   \n",
       "\n",
       "        pickuptime_early_morning  ...  dropoffday_Friday  dropoffday_Monday  \\\n",
       "0                              0  ...                  0                  1   \n",
       "1                              0  ...                  1                  0   \n",
       "2                              0  ...                  0                  0   \n",
       "3                              0  ...                  0                  0   \n",
       "4                              1  ...                  0                  0   \n",
       "...                          ...  ...                ...                ...   \n",
       "729317                         0  ...                  0                  0   \n",
       "729318                         0  ...                  0                  1   \n",
       "729319                         0  ...                  1                  0   \n",
       "729320                         0  ...                  0                  0   \n",
       "729321                         0  ...                  1                  0   \n",
       "\n",
       "        dropoffday_Saturday  dropoffday_Sunday  dropoffday_Thursday  \\\n",
       "0                         0                  0                    0   \n",
       "1                         0                  0                    0   \n",
       "2                         0                  1                    0   \n",
       "3                         0                  0                    0   \n",
       "4                         0                  0                    0   \n",
       "...                     ...                ...                  ...   \n",
       "729317                    1                  0                    0   \n",
       "729318                    0                  0                    0   \n",
       "729319                    0                  0                    0   \n",
       "729320                    0                  1                    0   \n",
       "729321                    0                  0                    0   \n",
       "\n",
       "        dropoffday_Tuesday  dropoffday_Wednesday  vendor_1  vendor_2  distance  \n",
       "0                        0                     0         0         1  2.374487  \n",
       "1                        0                     0         1         0  2.530716  \n",
       "2                        0                     0         0         1  2.674508  \n",
       "3                        1                     0         0         1  2.439331  \n",
       "4                        0                     1         1         0  2.540766  \n",
       "...                    ...                   ...       ...       ...       ...  \n",
       "729317                   0                     0         0         1  2.370042  \n",
       "729318                   0                     0         1         0  2.346861  \n",
       "729319                   0                     0         1         0  2.435946  \n",
       "729320                   0                     0         1         0  2.353861  \n",
       "729321                   0                     0         0         1  2.617337  \n",
       "\n",
       "[729322 rows x 37 columns]"
      ]
     },
     "execution_count": 24,
     "metadata": {},
     "output_type": "execute_result"
    }
   ],
   "source": [
    "data"
   ]
  },
  {
   "cell_type": "markdown",
   "id": "be53f898",
   "metadata": {},
   "source": [
    "Performing Standard Scaling"
   ]
  },
  {
   "cell_type": "code",
   "execution_count": 25,
   "id": "d9d8e9d0",
   "metadata": {},
   "outputs": [],
   "source": [
    "from sklearn.preprocessing import LabelEncoder\n",
    "from sklearn.preprocessing import StandardScaler\n",
    "from sklearn.model_selection import KFold, StratifiedKFold, train_test_split\n",
    "from sklearn.metrics import roc_auc_score, accuracy_score, confusion_matrix, roc_curve, precision_score, recall_score, precision_recall_curve\n",
    "import warnings\n",
    "warnings.simplefilter(action='ignore', category=FutureWarning)\n",
    "warnings.simplefilter(action='ignore', category=UserWarning)"
   ]
  },
  {
   "cell_type": "code",
   "execution_count": 26,
   "id": "811df2fe",
   "metadata": {},
   "outputs": [],
   "source": [
    "num_cols = ['distance']"
   ]
  },
  {
   "cell_type": "code",
   "execution_count": 27,
   "id": "f05b6ba9",
   "metadata": {},
   "outputs": [],
   "source": [
    "std = StandardScaler()\n",
    "scaled = std.fit_transform(data[num_cols])\n"
   ]
  },
  {
   "cell_type": "code",
   "execution_count": 28,
   "id": "007c6801",
   "metadata": {},
   "outputs": [
    {
     "data": {
      "text/plain": [
       "array([[-0.64065079],\n",
       "       [ 0.30184002],\n",
       "       [ 1.16930045],\n",
       "       ...,\n",
       "       [-0.26988826],\n",
       "       [-0.7650865 ],\n",
       "       [ 0.8244042 ]])"
      ]
     },
     "execution_count": 28,
     "metadata": {},
     "output_type": "execute_result"
    }
   ],
   "source": [
    "scaled"
   ]
  },
  {
   "cell_type": "code",
   "execution_count": 29,
   "id": "8fbe81d8",
   "metadata": {},
   "outputs": [],
   "source": [
    "scaled = pd.DataFrame(scaled,columns=num_cols)"
   ]
  },
  {
   "cell_type": "code",
   "execution_count": 38,
   "id": "1dc2caf1",
   "metadata": {},
   "outputs": [
    {
     "data": {
      "text/html": [
       "<div>\n",
       "<style scoped>\n",
       "    .dataframe tbody tr th:only-of-type {\n",
       "        vertical-align: middle;\n",
       "    }\n",
       "\n",
       "    .dataframe tbody tr th {\n",
       "        vertical-align: top;\n",
       "    }\n",
       "\n",
       "    .dataframe thead th {\n",
       "        text-align: right;\n",
       "    }\n",
       "</style>\n",
       "<table border=\"1\" class=\"dataframe\">\n",
       "  <thead>\n",
       "    <tr style=\"text-align: right;\">\n",
       "      <th></th>\n",
       "      <th>distance</th>\n",
       "    </tr>\n",
       "  </thead>\n",
       "  <tbody>\n",
       "    <tr>\n",
       "      <th>0</th>\n",
       "      <td>-0.640651</td>\n",
       "    </tr>\n",
       "    <tr>\n",
       "      <th>1</th>\n",
       "      <td>0.301840</td>\n",
       "    </tr>\n",
       "    <tr>\n",
       "      <th>2</th>\n",
       "      <td>1.169300</td>\n",
       "    </tr>\n",
       "    <tr>\n",
       "      <th>3</th>\n",
       "      <td>-0.249463</td>\n",
       "    </tr>\n",
       "    <tr>\n",
       "      <th>4</th>\n",
       "      <td>0.362469</td>\n",
       "    </tr>\n",
       "    <tr>\n",
       "      <th>...</th>\n",
       "      <td>...</td>\n",
       "    </tr>\n",
       "    <tr>\n",
       "      <th>729317</th>\n",
       "      <td>-0.667468</td>\n",
       "    </tr>\n",
       "    <tr>\n",
       "      <th>729318</th>\n",
       "      <td>-0.807313</td>\n",
       "    </tr>\n",
       "    <tr>\n",
       "      <th>729319</th>\n",
       "      <td>-0.269888</td>\n",
       "    </tr>\n",
       "    <tr>\n",
       "      <th>729320</th>\n",
       "      <td>-0.765086</td>\n",
       "    </tr>\n",
       "    <tr>\n",
       "      <th>729321</th>\n",
       "      <td>0.824404</td>\n",
       "    </tr>\n",
       "  </tbody>\n",
       "</table>\n",
       "<p>729322 rows × 1 columns</p>\n",
       "</div>"
      ],
      "text/plain": [
       "        distance\n",
       "0      -0.640651\n",
       "1       0.301840\n",
       "2       1.169300\n",
       "3      -0.249463\n",
       "4       0.362469\n",
       "...          ...\n",
       "729317 -0.667468\n",
       "729318 -0.807313\n",
       "729319 -0.269888\n",
       "729320 -0.765086\n",
       "729321  0.824404\n",
       "\n",
       "[729322 rows x 1 columns]"
      ]
     },
     "execution_count": 38,
     "metadata": {},
     "output_type": "execute_result"
    }
   ],
   "source": [
    "scaled"
   ]
  },
  {
   "cell_type": "code",
   "execution_count": 43,
   "id": "7be7c1ec",
   "metadata": {},
   "outputs": [],
   "source": [
    "num_cols = ['pickup_longitude','pickup_latitude','dropoff_longitude','dropoff_latitude','distance']"
   ]
  },
  {
   "cell_type": "code",
   "execution_count": 44,
   "id": "6049eea3",
   "metadata": {},
   "outputs": [],
   "source": [
    "new_data = data.copy()\n",
    "new_data=new_data.drop(num_cols,axis=1)\n",
    "new_data = new_data.merge(scaled,left_index = True, right_index= True,how='left')"
   ]
  },
  {
   "cell_type": "code",
   "execution_count": 45,
   "id": "79d6ab10",
   "metadata": {},
   "outputs": [
    {
     "data": {
      "text/html": [
       "<div>\n",
       "<style scoped>\n",
       "    .dataframe tbody tr th:only-of-type {\n",
       "        vertical-align: middle;\n",
       "    }\n",
       "\n",
       "    .dataframe tbody tr th {\n",
       "        vertical-align: top;\n",
       "    }\n",
       "\n",
       "    .dataframe thead th {\n",
       "        text-align: right;\n",
       "    }\n",
       "</style>\n",
       "<table border=\"1\" class=\"dataframe\">\n",
       "  <thead>\n",
       "    <tr style=\"text-align: right;\">\n",
       "      <th></th>\n",
       "      <th>passenger_count</th>\n",
       "      <th>trip_duration</th>\n",
       "      <th>flag_N</th>\n",
       "      <th>flag_Y</th>\n",
       "      <th>pickuptime_afternoon</th>\n",
       "      <th>pickuptime_early_morning</th>\n",
       "      <th>pickuptime_evening</th>\n",
       "      <th>pickuptime_late_night</th>\n",
       "      <th>pickuptime_morning</th>\n",
       "      <th>pickuptime_night</th>\n",
       "      <th>...</th>\n",
       "      <th>dropoffday_Friday</th>\n",
       "      <th>dropoffday_Monday</th>\n",
       "      <th>dropoffday_Saturday</th>\n",
       "      <th>dropoffday_Sunday</th>\n",
       "      <th>dropoffday_Thursday</th>\n",
       "      <th>dropoffday_Tuesday</th>\n",
       "      <th>dropoffday_Wednesday</th>\n",
       "      <th>vendor_1</th>\n",
       "      <th>vendor_2</th>\n",
       "      <th>distance</th>\n",
       "    </tr>\n",
       "  </thead>\n",
       "  <tbody>\n",
       "    <tr>\n",
       "      <th>0</th>\n",
       "      <td>1</td>\n",
       "      <td>6.016157</td>\n",
       "      <td>1</td>\n",
       "      <td>0</td>\n",
       "      <td>0</td>\n",
       "      <td>0</td>\n",
       "      <td>1</td>\n",
       "      <td>0</td>\n",
       "      <td>0</td>\n",
       "      <td>0</td>\n",
       "      <td>...</td>\n",
       "      <td>0</td>\n",
       "      <td>1</td>\n",
       "      <td>0</td>\n",
       "      <td>0</td>\n",
       "      <td>0</td>\n",
       "      <td>0</td>\n",
       "      <td>0</td>\n",
       "      <td>0</td>\n",
       "      <td>1</td>\n",
       "      <td>-0.640651</td>\n",
       "    </tr>\n",
       "    <tr>\n",
       "      <th>1</th>\n",
       "      <td>2</td>\n",
       "      <td>7.012115</td>\n",
       "      <td>1</td>\n",
       "      <td>0</td>\n",
       "      <td>0</td>\n",
       "      <td>0</td>\n",
       "      <td>0</td>\n",
       "      <td>0</td>\n",
       "      <td>0</td>\n",
       "      <td>1</td>\n",
       "      <td>...</td>\n",
       "      <td>1</td>\n",
       "      <td>0</td>\n",
       "      <td>0</td>\n",
       "      <td>0</td>\n",
       "      <td>0</td>\n",
       "      <td>0</td>\n",
       "      <td>0</td>\n",
       "      <td>1</td>\n",
       "      <td>0</td>\n",
       "      <td>0.301840</td>\n",
       "    </tr>\n",
       "    <tr>\n",
       "      <th>2</th>\n",
       "      <td>2</td>\n",
       "      <td>7.405496</td>\n",
       "      <td>1</td>\n",
       "      <td>0</td>\n",
       "      <td>0</td>\n",
       "      <td>0</td>\n",
       "      <td>1</td>\n",
       "      <td>0</td>\n",
       "      <td>0</td>\n",
       "      <td>0</td>\n",
       "      <td>...</td>\n",
       "      <td>0</td>\n",
       "      <td>0</td>\n",
       "      <td>0</td>\n",
       "      <td>1</td>\n",
       "      <td>0</td>\n",
       "      <td>0</td>\n",
       "      <td>0</td>\n",
       "      <td>0</td>\n",
       "      <td>1</td>\n",
       "      <td>1.169300</td>\n",
       "    </tr>\n",
       "    <tr>\n",
       "      <th>3</th>\n",
       "      <td>6</td>\n",
       "      <td>7.048386</td>\n",
       "      <td>1</td>\n",
       "      <td>0</td>\n",
       "      <td>0</td>\n",
       "      <td>0</td>\n",
       "      <td>0</td>\n",
       "      <td>0</td>\n",
       "      <td>1</td>\n",
       "      <td>0</td>\n",
       "      <td>...</td>\n",
       "      <td>0</td>\n",
       "      <td>0</td>\n",
       "      <td>0</td>\n",
       "      <td>0</td>\n",
       "      <td>0</td>\n",
       "      <td>1</td>\n",
       "      <td>0</td>\n",
       "      <td>0</td>\n",
       "      <td>1</td>\n",
       "      <td>-0.249463</td>\n",
       "    </tr>\n",
       "    <tr>\n",
       "      <th>4</th>\n",
       "      <td>1</td>\n",
       "      <td>6.754604</td>\n",
       "      <td>1</td>\n",
       "      <td>0</td>\n",
       "      <td>0</td>\n",
       "      <td>1</td>\n",
       "      <td>0</td>\n",
       "      <td>0</td>\n",
       "      <td>0</td>\n",
       "      <td>0</td>\n",
       "      <td>...</td>\n",
       "      <td>0</td>\n",
       "      <td>0</td>\n",
       "      <td>0</td>\n",
       "      <td>0</td>\n",
       "      <td>0</td>\n",
       "      <td>0</td>\n",
       "      <td>1</td>\n",
       "      <td>1</td>\n",
       "      <td>0</td>\n",
       "      <td>0.362469</td>\n",
       "    </tr>\n",
       "    <tr>\n",
       "      <th>...</th>\n",
       "      <td>...</td>\n",
       "      <td>...</td>\n",
       "      <td>...</td>\n",
       "      <td>...</td>\n",
       "      <td>...</td>\n",
       "      <td>...</td>\n",
       "      <td>...</td>\n",
       "      <td>...</td>\n",
       "      <td>...</td>\n",
       "      <td>...</td>\n",
       "      <td>...</td>\n",
       "      <td>...</td>\n",
       "      <td>...</td>\n",
       "      <td>...</td>\n",
       "      <td>...</td>\n",
       "      <td>...</td>\n",
       "      <td>...</td>\n",
       "      <td>...</td>\n",
       "      <td>...</td>\n",
       "      <td>...</td>\n",
       "      <td>...</td>\n",
       "    </tr>\n",
       "    <tr>\n",
       "      <th>729317</th>\n",
       "      <td>2</td>\n",
       "      <td>5.723585</td>\n",
       "      <td>1</td>\n",
       "      <td>0</td>\n",
       "      <td>1</td>\n",
       "      <td>0</td>\n",
       "      <td>0</td>\n",
       "      <td>0</td>\n",
       "      <td>0</td>\n",
       "      <td>0</td>\n",
       "      <td>...</td>\n",
       "      <td>0</td>\n",
       "      <td>0</td>\n",
       "      <td>1</td>\n",
       "      <td>0</td>\n",
       "      <td>0</td>\n",
       "      <td>0</td>\n",
       "      <td>0</td>\n",
       "      <td>0</td>\n",
       "      <td>1</td>\n",
       "      <td>-0.667468</td>\n",
       "    </tr>\n",
       "    <tr>\n",
       "      <th>729318</th>\n",
       "      <td>1</td>\n",
       "      <td>5.783825</td>\n",
       "      <td>1</td>\n",
       "      <td>0</td>\n",
       "      <td>0</td>\n",
       "      <td>0</td>\n",
       "      <td>0</td>\n",
       "      <td>1</td>\n",
       "      <td>0</td>\n",
       "      <td>0</td>\n",
       "      <td>...</td>\n",
       "      <td>0</td>\n",
       "      <td>1</td>\n",
       "      <td>0</td>\n",
       "      <td>0</td>\n",
       "      <td>0</td>\n",
       "      <td>0</td>\n",
       "      <td>0</td>\n",
       "      <td>1</td>\n",
       "      <td>0</td>\n",
       "      <td>-0.807313</td>\n",
       "    </tr>\n",
       "    <tr>\n",
       "      <th>729319</th>\n",
       "      <td>1</td>\n",
       "      <td>6.526495</td>\n",
       "      <td>1</td>\n",
       "      <td>0</td>\n",
       "      <td>0</td>\n",
       "      <td>0</td>\n",
       "      <td>1</td>\n",
       "      <td>0</td>\n",
       "      <td>0</td>\n",
       "      <td>0</td>\n",
       "      <td>...</td>\n",
       "      <td>1</td>\n",
       "      <td>0</td>\n",
       "      <td>0</td>\n",
       "      <td>0</td>\n",
       "      <td>0</td>\n",
       "      <td>0</td>\n",
       "      <td>0</td>\n",
       "      <td>1</td>\n",
       "      <td>0</td>\n",
       "      <td>-0.269888</td>\n",
       "    </tr>\n",
       "    <tr>\n",
       "      <th>729320</th>\n",
       "      <td>1</td>\n",
       "      <td>6.124683</td>\n",
       "      <td>1</td>\n",
       "      <td>0</td>\n",
       "      <td>0</td>\n",
       "      <td>0</td>\n",
       "      <td>0</td>\n",
       "      <td>0</td>\n",
       "      <td>1</td>\n",
       "      <td>0</td>\n",
       "      <td>...</td>\n",
       "      <td>0</td>\n",
       "      <td>0</td>\n",
       "      <td>0</td>\n",
       "      <td>1</td>\n",
       "      <td>0</td>\n",
       "      <td>0</td>\n",
       "      <td>0</td>\n",
       "      <td>1</td>\n",
       "      <td>0</td>\n",
       "      <td>-0.765086</td>\n",
       "    </tr>\n",
       "    <tr>\n",
       "      <th>729321</th>\n",
       "      <td>4</td>\n",
       "      <td>7.118016</td>\n",
       "      <td>1</td>\n",
       "      <td>0</td>\n",
       "      <td>0</td>\n",
       "      <td>0</td>\n",
       "      <td>1</td>\n",
       "      <td>0</td>\n",
       "      <td>0</td>\n",
       "      <td>0</td>\n",
       "      <td>...</td>\n",
       "      <td>1</td>\n",
       "      <td>0</td>\n",
       "      <td>0</td>\n",
       "      <td>0</td>\n",
       "      <td>0</td>\n",
       "      <td>0</td>\n",
       "      <td>0</td>\n",
       "      <td>0</td>\n",
       "      <td>1</td>\n",
       "      <td>0.824404</td>\n",
       "    </tr>\n",
       "  </tbody>\n",
       "</table>\n",
       "<p>729322 rows × 33 columns</p>\n",
       "</div>"
      ],
      "text/plain": [
       "        passenger_count  trip_duration  flag_N  flag_Y  pickuptime_afternoon  \\\n",
       "0                     1       6.016157       1       0                     0   \n",
       "1                     2       7.012115       1       0                     0   \n",
       "2                     2       7.405496       1       0                     0   \n",
       "3                     6       7.048386       1       0                     0   \n",
       "4                     1       6.754604       1       0                     0   \n",
       "...                 ...            ...     ...     ...                   ...   \n",
       "729317                2       5.723585       1       0                     1   \n",
       "729318                1       5.783825       1       0                     0   \n",
       "729319                1       6.526495       1       0                     0   \n",
       "729320                1       6.124683       1       0                     0   \n",
       "729321                4       7.118016       1       0                     0   \n",
       "\n",
       "        pickuptime_early_morning  pickuptime_evening  pickuptime_late_night  \\\n",
       "0                              0                   1                      0   \n",
       "1                              0                   0                      0   \n",
       "2                              0                   1                      0   \n",
       "3                              0                   0                      0   \n",
       "4                              1                   0                      0   \n",
       "...                          ...                 ...                    ...   \n",
       "729317                         0                   0                      0   \n",
       "729318                         0                   0                      1   \n",
       "729319                         0                   1                      0   \n",
       "729320                         0                   0                      0   \n",
       "729321                         0                   1                      0   \n",
       "\n",
       "        pickuptime_morning  pickuptime_night  ...  dropoffday_Friday  \\\n",
       "0                        0                 0  ...                  0   \n",
       "1                        0                 1  ...                  1   \n",
       "2                        0                 0  ...                  0   \n",
       "3                        1                 0  ...                  0   \n",
       "4                        0                 0  ...                  0   \n",
       "...                    ...               ...  ...                ...   \n",
       "729317                   0                 0  ...                  0   \n",
       "729318                   0                 0  ...                  0   \n",
       "729319                   0                 0  ...                  1   \n",
       "729320                   1                 0  ...                  0   \n",
       "729321                   0                 0  ...                  1   \n",
       "\n",
       "        dropoffday_Monday  dropoffday_Saturday  dropoffday_Sunday  \\\n",
       "0                       1                    0                  0   \n",
       "1                       0                    0                  0   \n",
       "2                       0                    0                  1   \n",
       "3                       0                    0                  0   \n",
       "4                       0                    0                  0   \n",
       "...                   ...                  ...                ...   \n",
       "729317                  0                    1                  0   \n",
       "729318                  1                    0                  0   \n",
       "729319                  0                    0                  0   \n",
       "729320                  0                    0                  1   \n",
       "729321                  0                    0                  0   \n",
       "\n",
       "        dropoffday_Thursday  dropoffday_Tuesday  dropoffday_Wednesday  \\\n",
       "0                         0                   0                     0   \n",
       "1                         0                   0                     0   \n",
       "2                         0                   0                     0   \n",
       "3                         0                   1                     0   \n",
       "4                         0                   0                     1   \n",
       "...                     ...                 ...                   ...   \n",
       "729317                    0                   0                     0   \n",
       "729318                    0                   0                     0   \n",
       "729319                    0                   0                     0   \n",
       "729320                    0                   0                     0   \n",
       "729321                    0                   0                     0   \n",
       "\n",
       "        vendor_1  vendor_2  distance  \n",
       "0              0         1 -0.640651  \n",
       "1              1         0  0.301840  \n",
       "2              0         1  1.169300  \n",
       "3              0         1 -0.249463  \n",
       "4              1         0  0.362469  \n",
       "...          ...       ...       ...  \n",
       "729317         0         1 -0.667468  \n",
       "729318         1         0 -0.807313  \n",
       "729319         1         0 -0.269888  \n",
       "729320         1         0 -0.765086  \n",
       "729321         0         1  0.824404  \n",
       "\n",
       "[729322 rows x 33 columns]"
      ]
     },
     "execution_count": 45,
     "metadata": {},
     "output_type": "execute_result"
    }
   ],
   "source": [
    "new_data"
   ]
  },
  {
   "cell_type": "code",
   "execution_count": 46,
   "id": "d39efe38",
   "metadata": {},
   "outputs": [],
   "source": [
    "new_data = new_data[np.isfinite(new_data).all(1)]\n",
    "y_all = new_data['trip_duration']"
   ]
  },
  {
   "cell_type": "code",
   "execution_count": 47,
   "id": "d6052456",
   "metadata": {},
   "outputs": [],
   "source": [
    "new_data = new_data.drop('trip_duration',axis=1)"
   ]
  },
  {
   "cell_type": "code",
   "execution_count": 48,
   "id": "2279a31e",
   "metadata": {},
   "outputs": [
    {
     "data": {
      "text/html": [
       "<div>\n",
       "<style scoped>\n",
       "    .dataframe tbody tr th:only-of-type {\n",
       "        vertical-align: middle;\n",
       "    }\n",
       "\n",
       "    .dataframe tbody tr th {\n",
       "        vertical-align: top;\n",
       "    }\n",
       "\n",
       "    .dataframe thead th {\n",
       "        text-align: right;\n",
       "    }\n",
       "</style>\n",
       "<table border=\"1\" class=\"dataframe\">\n",
       "  <thead>\n",
       "    <tr style=\"text-align: right;\">\n",
       "      <th></th>\n",
       "      <th>passenger_count</th>\n",
       "      <th>flag_N</th>\n",
       "      <th>flag_Y</th>\n",
       "      <th>pickuptime_afternoon</th>\n",
       "      <th>pickuptime_early_morning</th>\n",
       "      <th>pickuptime_evening</th>\n",
       "      <th>pickuptime_late_night</th>\n",
       "      <th>pickuptime_morning</th>\n",
       "      <th>pickuptime_night</th>\n",
       "      <th>droptime_afternoon</th>\n",
       "      <th>...</th>\n",
       "      <th>dropoffday_Friday</th>\n",
       "      <th>dropoffday_Monday</th>\n",
       "      <th>dropoffday_Saturday</th>\n",
       "      <th>dropoffday_Sunday</th>\n",
       "      <th>dropoffday_Thursday</th>\n",
       "      <th>dropoffday_Tuesday</th>\n",
       "      <th>dropoffday_Wednesday</th>\n",
       "      <th>vendor_1</th>\n",
       "      <th>vendor_2</th>\n",
       "      <th>distance</th>\n",
       "    </tr>\n",
       "  </thead>\n",
       "  <tbody>\n",
       "    <tr>\n",
       "      <th>0</th>\n",
       "      <td>1</td>\n",
       "      <td>1</td>\n",
       "      <td>0</td>\n",
       "      <td>0</td>\n",
       "      <td>0</td>\n",
       "      <td>1</td>\n",
       "      <td>0</td>\n",
       "      <td>0</td>\n",
       "      <td>0</td>\n",
       "      <td>0</td>\n",
       "      <td>...</td>\n",
       "      <td>0</td>\n",
       "      <td>1</td>\n",
       "      <td>0</td>\n",
       "      <td>0</td>\n",
       "      <td>0</td>\n",
       "      <td>0</td>\n",
       "      <td>0</td>\n",
       "      <td>0</td>\n",
       "      <td>1</td>\n",
       "      <td>-0.640651</td>\n",
       "    </tr>\n",
       "    <tr>\n",
       "      <th>1</th>\n",
       "      <td>2</td>\n",
       "      <td>1</td>\n",
       "      <td>0</td>\n",
       "      <td>0</td>\n",
       "      <td>0</td>\n",
       "      <td>0</td>\n",
       "      <td>0</td>\n",
       "      <td>0</td>\n",
       "      <td>1</td>\n",
       "      <td>0</td>\n",
       "      <td>...</td>\n",
       "      <td>1</td>\n",
       "      <td>0</td>\n",
       "      <td>0</td>\n",
       "      <td>0</td>\n",
       "      <td>0</td>\n",
       "      <td>0</td>\n",
       "      <td>0</td>\n",
       "      <td>1</td>\n",
       "      <td>0</td>\n",
       "      <td>0.301840</td>\n",
       "    </tr>\n",
       "    <tr>\n",
       "      <th>2</th>\n",
       "      <td>2</td>\n",
       "      <td>1</td>\n",
       "      <td>0</td>\n",
       "      <td>0</td>\n",
       "      <td>0</td>\n",
       "      <td>1</td>\n",
       "      <td>0</td>\n",
       "      <td>0</td>\n",
       "      <td>0</td>\n",
       "      <td>0</td>\n",
       "      <td>...</td>\n",
       "      <td>0</td>\n",
       "      <td>0</td>\n",
       "      <td>0</td>\n",
       "      <td>1</td>\n",
       "      <td>0</td>\n",
       "      <td>0</td>\n",
       "      <td>0</td>\n",
       "      <td>0</td>\n",
       "      <td>1</td>\n",
       "      <td>1.169300</td>\n",
       "    </tr>\n",
       "    <tr>\n",
       "      <th>3</th>\n",
       "      <td>6</td>\n",
       "      <td>1</td>\n",
       "      <td>0</td>\n",
       "      <td>0</td>\n",
       "      <td>0</td>\n",
       "      <td>0</td>\n",
       "      <td>0</td>\n",
       "      <td>1</td>\n",
       "      <td>0</td>\n",
       "      <td>0</td>\n",
       "      <td>...</td>\n",
       "      <td>0</td>\n",
       "      <td>0</td>\n",
       "      <td>0</td>\n",
       "      <td>0</td>\n",
       "      <td>0</td>\n",
       "      <td>1</td>\n",
       "      <td>0</td>\n",
       "      <td>0</td>\n",
       "      <td>1</td>\n",
       "      <td>-0.249463</td>\n",
       "    </tr>\n",
       "    <tr>\n",
       "      <th>4</th>\n",
       "      <td>1</td>\n",
       "      <td>1</td>\n",
       "      <td>0</td>\n",
       "      <td>0</td>\n",
       "      <td>1</td>\n",
       "      <td>0</td>\n",
       "      <td>0</td>\n",
       "      <td>0</td>\n",
       "      <td>0</td>\n",
       "      <td>0</td>\n",
       "      <td>...</td>\n",
       "      <td>0</td>\n",
       "      <td>0</td>\n",
       "      <td>0</td>\n",
       "      <td>0</td>\n",
       "      <td>0</td>\n",
       "      <td>0</td>\n",
       "      <td>1</td>\n",
       "      <td>1</td>\n",
       "      <td>0</td>\n",
       "      <td>0.362469</td>\n",
       "    </tr>\n",
       "    <tr>\n",
       "      <th>...</th>\n",
       "      <td>...</td>\n",
       "      <td>...</td>\n",
       "      <td>...</td>\n",
       "      <td>...</td>\n",
       "      <td>...</td>\n",
       "      <td>...</td>\n",
       "      <td>...</td>\n",
       "      <td>...</td>\n",
       "      <td>...</td>\n",
       "      <td>...</td>\n",
       "      <td>...</td>\n",
       "      <td>...</td>\n",
       "      <td>...</td>\n",
       "      <td>...</td>\n",
       "      <td>...</td>\n",
       "      <td>...</td>\n",
       "      <td>...</td>\n",
       "      <td>...</td>\n",
       "      <td>...</td>\n",
       "      <td>...</td>\n",
       "      <td>...</td>\n",
       "    </tr>\n",
       "    <tr>\n",
       "      <th>729317</th>\n",
       "      <td>2</td>\n",
       "      <td>1</td>\n",
       "      <td>0</td>\n",
       "      <td>1</td>\n",
       "      <td>0</td>\n",
       "      <td>0</td>\n",
       "      <td>0</td>\n",
       "      <td>0</td>\n",
       "      <td>0</td>\n",
       "      <td>1</td>\n",
       "      <td>...</td>\n",
       "      <td>0</td>\n",
       "      <td>0</td>\n",
       "      <td>1</td>\n",
       "      <td>0</td>\n",
       "      <td>0</td>\n",
       "      <td>0</td>\n",
       "      <td>0</td>\n",
       "      <td>0</td>\n",
       "      <td>1</td>\n",
       "      <td>-0.667468</td>\n",
       "    </tr>\n",
       "    <tr>\n",
       "      <th>729318</th>\n",
       "      <td>1</td>\n",
       "      <td>1</td>\n",
       "      <td>0</td>\n",
       "      <td>0</td>\n",
       "      <td>0</td>\n",
       "      <td>0</td>\n",
       "      <td>1</td>\n",
       "      <td>0</td>\n",
       "      <td>0</td>\n",
       "      <td>0</td>\n",
       "      <td>...</td>\n",
       "      <td>0</td>\n",
       "      <td>1</td>\n",
       "      <td>0</td>\n",
       "      <td>0</td>\n",
       "      <td>0</td>\n",
       "      <td>0</td>\n",
       "      <td>0</td>\n",
       "      <td>1</td>\n",
       "      <td>0</td>\n",
       "      <td>-0.807313</td>\n",
       "    </tr>\n",
       "    <tr>\n",
       "      <th>729319</th>\n",
       "      <td>1</td>\n",
       "      <td>1</td>\n",
       "      <td>0</td>\n",
       "      <td>0</td>\n",
       "      <td>0</td>\n",
       "      <td>1</td>\n",
       "      <td>0</td>\n",
       "      <td>0</td>\n",
       "      <td>0</td>\n",
       "      <td>0</td>\n",
       "      <td>...</td>\n",
       "      <td>1</td>\n",
       "      <td>0</td>\n",
       "      <td>0</td>\n",
       "      <td>0</td>\n",
       "      <td>0</td>\n",
       "      <td>0</td>\n",
       "      <td>0</td>\n",
       "      <td>1</td>\n",
       "      <td>0</td>\n",
       "      <td>-0.269888</td>\n",
       "    </tr>\n",
       "    <tr>\n",
       "      <th>729320</th>\n",
       "      <td>1</td>\n",
       "      <td>1</td>\n",
       "      <td>0</td>\n",
       "      <td>0</td>\n",
       "      <td>0</td>\n",
       "      <td>0</td>\n",
       "      <td>0</td>\n",
       "      <td>1</td>\n",
       "      <td>0</td>\n",
       "      <td>0</td>\n",
       "      <td>...</td>\n",
       "      <td>0</td>\n",
       "      <td>0</td>\n",
       "      <td>0</td>\n",
       "      <td>1</td>\n",
       "      <td>0</td>\n",
       "      <td>0</td>\n",
       "      <td>0</td>\n",
       "      <td>1</td>\n",
       "      <td>0</td>\n",
       "      <td>-0.765086</td>\n",
       "    </tr>\n",
       "    <tr>\n",
       "      <th>729321</th>\n",
       "      <td>4</td>\n",
       "      <td>1</td>\n",
       "      <td>0</td>\n",
       "      <td>0</td>\n",
       "      <td>0</td>\n",
       "      <td>1</td>\n",
       "      <td>0</td>\n",
       "      <td>0</td>\n",
       "      <td>0</td>\n",
       "      <td>0</td>\n",
       "      <td>...</td>\n",
       "      <td>1</td>\n",
       "      <td>0</td>\n",
       "      <td>0</td>\n",
       "      <td>0</td>\n",
       "      <td>0</td>\n",
       "      <td>0</td>\n",
       "      <td>0</td>\n",
       "      <td>0</td>\n",
       "      <td>1</td>\n",
       "      <td>0.824404</td>\n",
       "    </tr>\n",
       "  </tbody>\n",
       "</table>\n",
       "<p>729322 rows × 32 columns</p>\n",
       "</div>"
      ],
      "text/plain": [
       "        passenger_count  flag_N  flag_Y  pickuptime_afternoon  \\\n",
       "0                     1       1       0                     0   \n",
       "1                     2       1       0                     0   \n",
       "2                     2       1       0                     0   \n",
       "3                     6       1       0                     0   \n",
       "4                     1       1       0                     0   \n",
       "...                 ...     ...     ...                   ...   \n",
       "729317                2       1       0                     1   \n",
       "729318                1       1       0                     0   \n",
       "729319                1       1       0                     0   \n",
       "729320                1       1       0                     0   \n",
       "729321                4       1       0                     0   \n",
       "\n",
       "        pickuptime_early_morning  pickuptime_evening  pickuptime_late_night  \\\n",
       "0                              0                   1                      0   \n",
       "1                              0                   0                      0   \n",
       "2                              0                   1                      0   \n",
       "3                              0                   0                      0   \n",
       "4                              1                   0                      0   \n",
       "...                          ...                 ...                    ...   \n",
       "729317                         0                   0                      0   \n",
       "729318                         0                   0                      1   \n",
       "729319                         0                   1                      0   \n",
       "729320                         0                   0                      0   \n",
       "729321                         0                   1                      0   \n",
       "\n",
       "        pickuptime_morning  pickuptime_night  droptime_afternoon  ...  \\\n",
       "0                        0                 0                   0  ...   \n",
       "1                        0                 1                   0  ...   \n",
       "2                        0                 0                   0  ...   \n",
       "3                        1                 0                   0  ...   \n",
       "4                        0                 0                   0  ...   \n",
       "...                    ...               ...                 ...  ...   \n",
       "729317                   0                 0                   1  ...   \n",
       "729318                   0                 0                   0  ...   \n",
       "729319                   0                 0                   0  ...   \n",
       "729320                   1                 0                   0  ...   \n",
       "729321                   0                 0                   0  ...   \n",
       "\n",
       "        dropoffday_Friday  dropoffday_Monday  dropoffday_Saturday  \\\n",
       "0                       0                  1                    0   \n",
       "1                       1                  0                    0   \n",
       "2                       0                  0                    0   \n",
       "3                       0                  0                    0   \n",
       "4                       0                  0                    0   \n",
       "...                   ...                ...                  ...   \n",
       "729317                  0                  0                    1   \n",
       "729318                  0                  1                    0   \n",
       "729319                  1                  0                    0   \n",
       "729320                  0                  0                    0   \n",
       "729321                  1                  0                    0   \n",
       "\n",
       "        dropoffday_Sunday  dropoffday_Thursday  dropoffday_Tuesday  \\\n",
       "0                       0                    0                   0   \n",
       "1                       0                    0                   0   \n",
       "2                       1                    0                   0   \n",
       "3                       0                    0                   1   \n",
       "4                       0                    0                   0   \n",
       "...                   ...                  ...                 ...   \n",
       "729317                  0                    0                   0   \n",
       "729318                  0                    0                   0   \n",
       "729319                  0                    0                   0   \n",
       "729320                  1                    0                   0   \n",
       "729321                  0                    0                   0   \n",
       "\n",
       "        dropoffday_Wednesday  vendor_1  vendor_2  distance  \n",
       "0                          0         0         1 -0.640651  \n",
       "1                          0         1         0  0.301840  \n",
       "2                          0         0         1  1.169300  \n",
       "3                          0         0         1 -0.249463  \n",
       "4                          1         1         0  0.362469  \n",
       "...                      ...       ...       ...       ...  \n",
       "729317                     0         0         1 -0.667468  \n",
       "729318                     0         1         0 -0.807313  \n",
       "729319                     0         1         0 -0.269888  \n",
       "729320                     0         1         0 -0.765086  \n",
       "729321                     0         0         1  0.824404  \n",
       "\n",
       "[729322 rows x 32 columns]"
      ]
     },
     "execution_count": 48,
     "metadata": {},
     "output_type": "execute_result"
    }
   ],
   "source": [
    "new_data"
   ]
  },
  {
   "cell_type": "code",
   "execution_count": 49,
   "id": "69b495bb",
   "metadata": {},
   "outputs": [
    {
     "data": {
      "text/plain": [
       "0         6.016157\n",
       "1         7.012115\n",
       "2         7.405496\n",
       "3         7.048386\n",
       "4         6.754604\n",
       "            ...   \n",
       "729317    5.723585\n",
       "729318    5.783825\n",
       "729319    6.526495\n",
       "729320    6.124683\n",
       "729321    7.118016\n",
       "Name: trip_duration, Length: 729322, dtype: float64"
      ]
     },
     "execution_count": 49,
     "metadata": {},
     "output_type": "execute_result"
    }
   ],
   "source": [
    "y_all"
   ]
  },
  {
   "cell_type": "markdown",
   "id": "9ab07ca4",
   "metadata": {},
   "source": [
    "# Splitting the Data"
   ]
  },
  {
   "cell_type": "code",
   "execution_count": 50,
   "id": "a8269baa",
   "metadata": {},
   "outputs": [],
   "source": [
    "x_train,x_test,y_train,y_test = train_test_split(new_data,y_all,test_size=1/3)"
   ]
  },
  {
   "cell_type": "code",
   "execution_count": 51,
   "id": "b6291ce2",
   "metadata": {},
   "outputs": [],
   "source": [
    "from sklearn.linear_model import LinearRegression"
   ]
  },
  {
   "cell_type": "markdown",
   "id": "ad1e73fd",
   "metadata": {},
   "source": [
    "# Model Building (Linear Regression)"
   ]
  },
  {
   "cell_type": "code",
   "execution_count": 52,
   "id": "245f2af3",
   "metadata": {},
   "outputs": [
    {
     "data": {
      "text/plain": [
       "array([6.17797852, 6.37768555, 6.17504883, ..., 6.39135742, 6.25390625,\n",
       "       7.54394531])"
      ]
     },
     "execution_count": 52,
     "metadata": {},
     "output_type": "execute_result"
    }
   ],
   "source": [
    "lr = LinearRegression()\n",
    "model = lr.fit(x_train,y_train)\n",
    "model.predict(x_test)"
   ]
  },
  {
   "cell_type": "code",
   "execution_count": 53,
   "id": "50b126d2",
   "metadata": {},
   "outputs": [],
   "source": [
    "y_predict = model.predict(x_test)"
   ]
  },
  {
   "cell_type": "markdown",
   "id": "2a6eebc5",
   "metadata": {},
   "source": [
    "# Model Evaluation"
   ]
  },
  {
   "cell_type": "code",
   "execution_count": 54,
   "id": "8130fb9f",
   "metadata": {},
   "outputs": [],
   "source": [
    "from sklearn.metrics import mean_squared_error"
   ]
  },
  {
   "cell_type": "code",
   "execution_count": 55,
   "id": "f2cc06cd",
   "metadata": {},
   "outputs": [],
   "source": [
    "model_mse = mean_squared_error(y_test,y_predict)"
   ]
  },
  {
   "cell_type": "code",
   "execution_count": 56,
   "id": "cd1f1b75",
   "metadata": {},
   "outputs": [
    {
     "data": {
      "text/plain": [
       "0.30446627316662667"
      ]
     },
     "execution_count": 56,
     "metadata": {},
     "output_type": "execute_result"
    }
   ],
   "source": [
    "model_mse"
   ]
  },
  {
   "cell_type": "code",
   "execution_count": 57,
   "id": "0f469ead",
   "metadata": {},
   "outputs": [
    {
     "data": {
      "text/plain": [
       "0.39943814703698155"
      ]
     },
     "execution_count": 57,
     "metadata": {},
     "output_type": "execute_result"
    }
   ],
   "source": [
    "from sklearn.metrics import mean_absolute_error\n",
    "mean_absolute_error(y_test,y_predict)"
   ]
  },
  {
   "cell_type": "markdown",
   "id": "7caf46eb",
   "metadata": {},
   "source": [
    "The model accuracy using Linear Regresion is 0.39943814703698155"
   ]
  },
  {
   "cell_type": "markdown",
   "id": "c4fd6586",
   "metadata": {},
   "source": [
    "# Model Building (Decision Tree)"
   ]
  },
  {
   "cell_type": "code",
   "execution_count": 35,
   "id": "dbfcf5bb",
   "metadata": {},
   "outputs": [],
   "source": [
    "from sklearn.tree import DecisionTreeRegressor"
   ]
  },
  {
   "cell_type": "code",
   "execution_count": 36,
   "id": "f345ed9d",
   "metadata": {},
   "outputs": [],
   "source": [
    "dt_model = DecisionTreeRegressor(random_state=10)"
   ]
  },
  {
   "cell_type": "code",
   "execution_count": 37,
   "id": "27696b8b",
   "metadata": {},
   "outputs": [
    {
     "data": {
      "text/plain": [
       "DecisionTreeRegressor(random_state=10)"
      ]
     },
     "execution_count": 37,
     "metadata": {},
     "output_type": "execute_result"
    }
   ],
   "source": [
    "dt_model.fit(x_train, y_train)"
   ]
  },
  {
   "cell_type": "code",
   "execution_count": 38,
   "id": "1e55af7c",
   "metadata": {},
   "outputs": [
    {
     "data": {
      "text/plain": [
       "0.9897924342035279"
      ]
     },
     "execution_count": 38,
     "metadata": {},
     "output_type": "execute_result"
    }
   ],
   "source": [
    "dt_model.score(x_train, y_train)"
   ]
  },
  {
   "cell_type": "markdown",
   "id": "cbac30d4",
   "metadata": {},
   "source": [
    "# Model Evaluation"
   ]
  },
  {
   "cell_type": "code",
   "execution_count": 39,
   "id": "bec54bf0",
   "metadata": {},
   "outputs": [
    {
     "data": {
      "text/plain": [
       "0.4003551258532764"
      ]
     },
     "execution_count": 39,
     "metadata": {},
     "output_type": "execute_result"
    }
   ],
   "source": [
    "dt_model.score(x_test, y_test)"
   ]
  },
  {
   "cell_type": "markdown",
   "id": "d32c395a",
   "metadata": {},
   "source": [
    "The model accuracy using Decision Tree is 0.4003551258532764"
   ]
  },
  {
   "cell_type": "markdown",
   "id": "a752e556",
   "metadata": {},
   "source": [
    "# Performing Hyperparameter Tuning"
   ]
  },
  {
   "cell_type": "code",
   "execution_count": 40,
   "id": "532b8422",
   "metadata": {},
   "outputs": [],
   "source": [
    "train_accuracy = []\n",
    "validation_accuracy = []\n",
    "for depth in range(1,20):\n",
    "    dt_model = DecisionTreeRegressor(max_depth=depth, random_state=10)\n",
    "    dt_model.fit(x_train, y_train)\n",
    "    train_accuracy.append(dt_model.score(x_train, y_train))\n",
    "    validation_accuracy.append(dt_model.score(x_test, y_test))"
   ]
  },
  {
   "cell_type": "code",
   "execution_count": 41,
   "id": "2510ca96",
   "metadata": {},
   "outputs": [
    {
     "data": {
      "text/html": [
       "<div>\n",
       "<style scoped>\n",
       "    .dataframe tbody tr th:only-of-type {\n",
       "        vertical-align: middle;\n",
       "    }\n",
       "\n",
       "    .dataframe tbody tr th {\n",
       "        vertical-align: top;\n",
       "    }\n",
       "\n",
       "    .dataframe thead th {\n",
       "        text-align: right;\n",
       "    }\n",
       "</style>\n",
       "<table border=\"1\" class=\"dataframe\">\n",
       "  <thead>\n",
       "    <tr style=\"text-align: right;\">\n",
       "      <th></th>\n",
       "      <th>max_depth</th>\n",
       "      <th>train_acc</th>\n",
       "      <th>valid_acc</th>\n",
       "    </tr>\n",
       "  </thead>\n",
       "  <tbody>\n",
       "    <tr>\n",
       "      <th>0</th>\n",
       "      <td>1</td>\n",
       "      <td>0.386803</td>\n",
       "      <td>0.384551</td>\n",
       "    </tr>\n",
       "    <tr>\n",
       "      <th>1</th>\n",
       "      <td>2</td>\n",
       "      <td>0.534900</td>\n",
       "      <td>0.531511</td>\n",
       "    </tr>\n",
       "    <tr>\n",
       "      <th>2</th>\n",
       "      <td>3</td>\n",
       "      <td>0.582858</td>\n",
       "      <td>0.579242</td>\n",
       "    </tr>\n",
       "    <tr>\n",
       "      <th>3</th>\n",
       "      <td>4</td>\n",
       "      <td>0.600856</td>\n",
       "      <td>0.597221</td>\n",
       "    </tr>\n",
       "    <tr>\n",
       "      <th>4</th>\n",
       "      <td>5</td>\n",
       "      <td>0.616986</td>\n",
       "      <td>0.613024</td>\n",
       "    </tr>\n",
       "  </tbody>\n",
       "</table>\n",
       "</div>"
      ],
      "text/plain": [
       "   max_depth  train_acc  valid_acc\n",
       "0          1   0.386803   0.384551\n",
       "1          2   0.534900   0.531511\n",
       "2          3   0.582858   0.579242\n",
       "3          4   0.600856   0.597221\n",
       "4          5   0.616986   0.613024"
      ]
     },
     "execution_count": 41,
     "metadata": {},
     "output_type": "execute_result"
    }
   ],
   "source": [
    "frame = pd.DataFrame({'max_depth':range(1,20), 'train_acc':train_accuracy, 'valid_acc':validation_accuracy})\n",
    "frame.head()"
   ]
  },
  {
   "cell_type": "code",
   "execution_count": 42,
   "id": "97c29c7d",
   "metadata": {},
   "outputs": [
    {
     "name": "stderr",
     "output_type": "stream",
     "text": [
      "No artists with labels found to put in legend.  Note that artists whose label start with an underscore are ignored when legend() is called with no argument.\n"
     ]
    },
    {
     "data": {
      "text/plain": [
       "<matplotlib.legend.Legend at 0x7fd233b49280>"
      ]
     },
     "execution_count": 42,
     "metadata": {},
     "output_type": "execute_result"
    },
    {
     "data": {
      "image/png": "[encoded data removed]",
      "text/plain": [
       "<Figure size 1200x600 with 1 Axes>"
      ]
     },
     "metadata": {},
     "output_type": "display_data"
    }
   ],
   "source": [
    "plt.figure(figsize=(12,6))\n",
    "plt.plot(frame['max_depth'], frame['train_acc'], marker='o')\n",
    "plt.plot(frame['max_depth'], frame['valid_acc'], marker='o')\n",
    "plt.xlabel('Depth of tree')\n",
    "plt.ylabel('performance')\n",
    "plt.legend()"
   ]
  },
  {
   "cell_type": "code",
   "execution_count": 43,
   "id": "f5a3f9ed",
   "metadata": {},
   "outputs": [],
   "source": [
    "dt_model = DecisionTreeRegressor(max_depth=11, max_leaf_nodes=30, random_state=10)"
   ]
  },
  {
   "cell_type": "code",
   "execution_count": 44,
   "id": "29516baa",
   "metadata": {},
   "outputs": [
    {
     "data": {
      "text/plain": [
       "DecisionTreeRegressor(max_depth=11, max_leaf_nodes=30, random_state=10)"
      ]
     },
     "execution_count": 44,
     "metadata": {},
     "output_type": "execute_result"
    }
   ],
   "source": [
    "dt_model.fit(x_train, y_train)"
   ]
  },
  {
   "cell_type": "code",
   "execution_count": 45,
   "id": "8cabe6e4",
   "metadata": {},
   "outputs": [
    {
     "data": {
      "text/plain": [
       "0.6273548292867002"
      ]
     },
     "execution_count": 45,
     "metadata": {},
     "output_type": "execute_result"
    }
   ],
   "source": [
    "dt_model.score(x_train, y_train)"
   ]
  },
  {
   "cell_type": "markdown",
   "id": "67937d7c",
   "metadata": {},
   "source": [
    "# Model Evaluation"
   ]
  },
  {
   "cell_type": "code",
   "execution_count": 46,
   "id": "c9f39f61",
   "metadata": {},
   "outputs": [
    {
     "data": {
      "text/plain": [
       "0.6242977649845678"
      ]
     },
     "execution_count": 46,
     "metadata": {},
     "output_type": "execute_result"
    }
   ],
   "source": [
    "dt_model.score(x_test, y_test)"
   ]
  }
 ],
 "metadata": {
  "kernelspec": {
   "display_name": "Python 3 (ipykernel)",
   "language": "python",
   "name": "python3"
  },
  "language_info": {
   "codemirror_mode": {
    "name": "ipython",
    "version": 3
   },
   "file_extension": ".py",
   "mimetype": "text/x-python",
   "name": "python",
   "nbconvert_exporter": "python",
   "pygments_lexer": "ipython3",
   "version": "3.9.13"
  }
 },
 "nbformat": 4,
 "nbformat_minor": 5
}
